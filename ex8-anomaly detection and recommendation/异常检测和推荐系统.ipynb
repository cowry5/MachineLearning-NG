{
 "cells": [
  {
   "cell_type": "markdown",
   "metadata": {},
   "source": [
    "## 1 Anomaly detection\n",
    "\n",
    "这部分，您将实现一个异常检测算法来检测服务器计算机中的异常行为。他的特征是测量每个服务器的响应速度(mb/s)和延迟(ms)。当你的服务器运行时，你收集到了m=307的样本，是无标签的。你相信其中绝大多数样本是正常的，但还是有一小部分的样本是异常的。\n",
    "\n",
    "我们将使用高斯分布模型来检测数据集中的异常样本。"
   ]
  },
  {
   "cell_type": "code",
   "execution_count": 1,
   "metadata": {
    "collapsed": true
   },
   "outputs": [],
   "source": [
    "% matplotlib inline\n",
    "import pandas as pd\n",
    "import numpy as np\n",
    "from scipy.io import loadmat\n",
    "import matplotlib.pyplot as plt"
   ]
  },
  {
   "cell_type": "code",
   "execution_count": 2,
   "metadata": {},
   "outputs": [
    {
     "name": "stdout",
     "output_type": "stream",
     "text": [
      "dict_keys(['__header__', '__version__', '__globals__', 'X', 'Xval', 'yval'])\n"
     ]
    },
    {
     "data": {
      "text/plain": [
       "((307, 2), (307, 2), (307, 1))"
      ]
     },
     "execution_count": 2,
     "metadata": {},
     "output_type": "execute_result"
    }
   ],
   "source": [
    "mat = loadmat('data/ex8data1.mat')\n",
    "print(mat.keys())\n",
    "X = mat['X']\n",
    "Xval, yval = mat['Xval'], mat['yval']\n",
    "X.shape, Xval.shape, yval.shape"
   ]
  },
  {
   "cell_type": "code",
   "execution_count": 3,
   "metadata": {},
   "outputs": [
    {
     "data": {
      "image/png": "[encoded data removed]",
      "text/plain": [
       "<matplotlib.figure.Figure at 0x2cf9bee6f28>"
      ]
     },
     "metadata": {},
     "output_type": "display_data"
    }
   ],
   "source": [
    "def plot_data():\n",
    "    plt.figure(figsize=(8,5))\n",
    "    plt.plot(X[:,0], X[:,1], 'bx')\n",
    "    # plt.scatter(Xval[:,0], Xval[:,1], c=yval.flatten(), marker='x', cmap='rainbow')\n",
    "    \n",
    "plot_data()"
   ]
  },
  {
   "cell_type": "markdown",
   "metadata": {},
   "source": [
    "### 1.1 Gaussian distribution\n",
    "\n",
    "要执行异常检测，首先需要将模型拟合数据的分布。\n",
    "\n",
    "给定训练集${x^{(1)}, ..., x^{(m)}}$, 我们想要对每个特征$x_i$ 做高斯分布估计。对于每个特征，$i = 1...n$，我们需要找到参数 $u_i, \\delta^2_i$ 来拟合数据。\n",
    "\n",
    "![image.png](https://upload-images.jianshu.io/upload_images/11023262-bbed4cabd9f59882.png?imageMogr2/auto-orient/strip%7CimageView2/2/w/1240)\n",
    "\n",
    "![image.png](https://upload-images.jianshu.io/upload_images/11023262-cbac08b7ff2c7250.png?imageMogr2/auto-orient/strip%7CimageView2/2/w/1240)"
   ]
  },
  {
   "cell_type": "code",
   "execution_count": 4,
   "metadata": {
    "collapsed": true
   },
   "outputs": [],
   "source": [
    "def gaussian(X, mu, sigma2):\n",
    "    '''\n",
    "    mu, sigma2参数已经决定了一个高斯分布模型\n",
    "    因为原始模型就是多元高斯模型在sigma2上是对角矩阵而已，所以如下：\n",
    "    If Sigma2 is a matrix, it is treated as the covariance matrix. \n",
    "    If Sigma2 is a vector, it is treated as the sigma^2 values of the variances\n",
    "    in each dimension (a diagonal covariance matrix)\n",
    "    output:\n",
    "        一个(m, )维向量，包含每个样本的概率值。\n",
    "    '''\n",
    "# 如果想用矩阵相乘求解exp()中的项，一定要注意维度的变换。\n",
    "# 事实上我们只需要取对角线上的元素即可。（类似于方差而不是想要协方差）\n",
    "# 最后得到一个（m，）的向量，包含每个样本的概率，而不是想要一个（m,m）的矩阵\n",
    "# 注意这里，当矩阵过大时，numpy矩阵相乘会出现内存错误。例如9万维的矩阵。所以画图时不能生成太多数据~！\n",
    "#     n = len(mu) \n",
    "    \n",
    "#     if np.ndim(sigma2) == 1:\n",
    "#         sigma2 = np.diag(sigma2)\n",
    "\n",
    "#     X = X - mu\n",
    "#     p1 = np.power(2 * np.pi, -n/2)*np.sqrt(np.linalg.det(sigma2))\n",
    "#     e = np.diag(X@np.linalg.inv(sigma2)@X.T)  # 取对角元素，类似与方差，而不要协方差\n",
    "#     p2 = np.exp(-.5*e)\n",
    "    \n",
    "#     return p1 * p2\n",
    "\n",
    "# 下面是不利用矩阵的解法，相当于把每行数据输入进去，不会出现内存错误。\n",
    "    m, n = X.shape\n",
    "    if np.ndim(sigma2) == 1:\n",
    "        sigma2 = np.diag(sigma2)\n",
    "\n",
    "    norm = 1./(np.power((2*np.pi), n/2)*np.sqrt(np.linalg.det(sigma2)))\n",
    "    exp = np.zeros((m,1))\n",
    "    for row in range(m):\n",
    "        xrow = X[row]\n",
    "        exp[row] = np.exp(-0.5*((xrow-mu).T).dot(np.linalg.inv(sigma2)).dot(xrow-mu))\n",
    "    return norm*exp"
   ]
  },
  {
   "cell_type": "markdown",
   "metadata": {},
   "source": [
    "### 1.2 Estimating parameters for a Gaussian\n",
    "\n",
    "参数估计：\n",
    "![image.png](https://upload-images.jianshu.io/upload_images/11023262-e46df00505cb3569.png?imageMogr2/auto-orient/strip%7CimageView2/2/w/1240)\n"
   ]
  },
  {
   "cell_type": "code",
   "execution_count": 5,
   "metadata": {
    "collapsed": true
   },
   "outputs": [],
   "source": [
    "def getGaussianParams(X, useMultivariate):\n",
    "    \"\"\"\n",
    "    The input X is the dataset with each n-dimensional data point in one row\n",
    "    The output is an n-dimensional vector mu, the mean of the data set \n",
    "    the variances sigma^2, an n x 1 vector 或者是(n,n)矩阵，if你使用了多元高斯函数\n",
    "    作业这里求样本方差除的是 m 而不是 m - 1，实际上效果差不了多少。\n",
    "    \"\"\"\n",
    "    mu = X.mean(axis=0)\n",
    "    if useMultivariate:    \n",
    "        sigma2 = ((X-mu).T @ (X-mu)) / len(X)\n",
    "    else:\n",
    "        sigma2 = X.var(axis=0, ddof=0)  # 样本方差\n",
    "    \n",
    "    return mu, sigma2"
   ]
  },
  {
   "cell_type": "markdown",
   "metadata": {},
   "source": [
    "![image.png](https://upload-images.jianshu.io/upload_images/11023262-049151e8a5821876.png?imageMogr2/auto-orient/strip%7CimageView2/2/w/1240)"
   ]
  },
  {
   "cell_type": "code",
   "execution_count": 6,
   "metadata": {
    "collapsed": true
   },
   "outputs": [],
   "source": [
    "def plotContours(mu, sigma2):\n",
    "    \"\"\"\n",
    "    画出高斯概率分布的图，在三维中是一个上凸的曲面。投影到平面上则是一圈圈的等高线。\n",
    "    \"\"\"\n",
    "    delta = .3  # 注意delta不能太小！！！否则会生成太多的数据，导致矩阵相乘会出现内存错误。\n",
    "    x = np.arange(0,30,delta)\n",
    "    y = np.arange(0,30,delta)\n",
    "    \n",
    "    # 这部分要转化为X形式的坐标矩阵，也就是一列是横坐标，一列是纵坐标，\n",
    "    # 然后才能传入gaussian中求解得到每个点的概率值\n",
    "    xx, yy = np.meshgrid(x, y)\n",
    "    points = np.c_[xx.ravel(), yy.ravel()]  # 按列合并，一列横坐标，一列纵坐标\n",
    "    z = gaussian(points, mu, sigma2)\n",
    "    z = z.reshape(xx.shape)  # 这步骤不能忘\n",
    "    \n",
    "    cont_levels = [10**h for h in range(-20,0,3)]\n",
    "    plt.contour(xx, yy, z, cont_levels)  # 这个levels是作业里面给的参考,或者通过求解的概率推出来。\n",
    "\n",
    "    plt.title('Gaussian Contours',fontsize=16)"
   ]
  },
  {
   "cell_type": "code",
   "execution_count": 7,
   "metadata": {
    "scrolled": false
   },
   "outputs": [
    {
     "data": {
      "image/png": "[encoded data removed]",
      "text/plain": [
       "<matplotlib.figure.Figure at 0x2cf9bfe3208>"
      ]
     },
     "metadata": {},
     "output_type": "display_data"
    },
    {
     "data": {
      "image/png": "[encoded data removed]",
      "text/plain": [
       "<matplotlib.figure.Figure at 0x2cf9c019c18>"
      ]
     },
     "metadata": {},
     "output_type": "display_data"
    }
   ],
   "source": [
    "# First contours without using multivariate gaussian:\n",
    "plot_data()\n",
    "useMV = False\n",
    "plotContours(*getGaussianParams(X, useMV))\n",
    "\n",
    "# Then contours with multivariate gaussian:\n",
    "plot_data()\n",
    "useMV = True\n",
    "# *表示解元组\n",
    "plotContours(*getGaussianParams(X, useMV))"
   ]
  },
  {
   "cell_type": "markdown",
   "metadata": {},
   "source": [
    "从上面的图可以看到，一元高斯模型仅在横向和纵向上有变化，而多元高斯模型在斜轴上也有相关变化，对应着特征间的相关关系。而一元高斯模型就是多元高斯模型中协方差矩阵为对角矩阵的结果，即协方差都为0，不考虑协方差，只考虑方差，故一元高斯模型不会有斜轴上的变化。\n",
    "\n",
    "从上面的图我们可以清晰的看到，哪些样本的概率高，哪些样本的概率低，概率低的样本很大程度上就是异常值。"
   ]
  },
  {
   "cell_type": "markdown",
   "metadata": {},
   "source": [
    "### 1.3 Selecting the threshold, ε\n",
    "\n",
    "确定哪些例子是异常的一种方法是通过一组交叉验证集，选择一个好的阈值 ε 。\n",
    "\n",
    "在这部分的练习中,您将实现一个算法使用交叉验证集的F1分数来选择合理的阈值 ε 。\n",
    "\n",
    "![image.png](https://upload-images.jianshu.io/upload_images/11023262-71b6bb67c49ac3c9.png?imageMogr2/auto-orient/strip%7CimageView2/2/w/1240)\n",
    "\n",
    "tp means true positives：是异常值，并且我们的模型预测成异常值了，即真的异常值。\n",
    "\n",
    "fp means false positives：是正常值，但模型把它预测成异常值，即假的异常值。\n",
    "\n",
    "fn means false negatives：是异常值，但是模型把它预测成正常值，即假的正常值。\n",
    "\n",
    "precision 表示你预测为positive的样本中有多少是真的positive的样本。\n",
    "recall 表示实际有多少positive的样本，而你成功预测出多少positive的样本。"
   ]
  },
  {
   "cell_type": "code",
   "execution_count": 8,
   "metadata": {
    "collapsed": true
   },
   "outputs": [],
   "source": [
    "def selectThreshold(yval, pval):\n",
    "    def computeF1(yval, pval):\n",
    "        m = len(yval)\n",
    "        tp = float(len([i for i in range(m) if pval[i] and yval[i]]))\n",
    "        fp = float(len([i for i in range(m) if pval[i] and not yval[i]]))\n",
    "        fn = float(len([i for i in range(m) if not pval[i] and yval[i]]))\n",
    "        prec = tp/(tp+fp) if (tp+fp) else 0\n",
    "        rec = tp/(tp+fn) if (tp+fn) else 0\n",
    "        F1 = 2*prec*rec/(prec+rec) if (prec+rec) else 0\n",
    "        return F1\n",
    "   \n",
    "    epsilons = np.linspace(min(pval), max(pval), 1000)\n",
    "    bestF1, bestEpsilon = 0, 0\n",
    "    for e in epsilons:\n",
    "        pval_ = pval < e\n",
    "        thisF1 = computeF1(yval, pval_)\n",
    "        if thisF1 > bestF1:\n",
    "            bestF1 = thisF1\n",
    "            bestEpsilon = e\n",
    "\n",
    "    return bestF1, bestEpsilon"
   ]
  },
  {
   "cell_type": "markdown",
   "metadata": {},
   "source": [
    "you should see a value epsilon of about 8.99e-05\n",
    "\n",
    "you should see a Best F1 value of  0.875000"
   ]
  },
  {
   "cell_type": "code",
   "execution_count": 9,
   "metadata": {
    "collapsed": true
   },
   "outputs": [],
   "source": [
    "mu, sigma2 = getGaussianParams(X, useMultivariate=False)\n",
    "pval = gaussian(Xval, mu, sigma2)\n",
    "bestF1, bestEpsilon = selectThreshold(yval, pval)  \n",
    "# (0.8750000000000001, 8.999852631901397e-05)"
   ]
  },
  {
   "cell_type": "code",
   "execution_count": 10,
   "metadata": {},
   "outputs": [
    {
     "data": {
      "text/plain": [
       "array([[13.07931049,  9.34787812],\n",
       "       [21.72713402,  4.12623222],\n",
       "       [19.58257277, 10.411619  ],\n",
       "       [23.33986753, 16.29887355],\n",
       "       [18.26118844, 17.978309  ],\n",
       "       [ 4.75261282, 24.35040725]])"
      ]
     },
     "execution_count": 10,
     "metadata": {},
     "output_type": "execute_result"
    }
   ],
   "source": [
    "y = gaussian(X, mu, sigma2)  # X的概率\n",
    "xx = np.array([X[i] for i in range(len(y)) if y[i] < bestEpsilon])\n",
    "xx  # 离群点"
   ]
  },
  {
   "cell_type": "code",
   "execution_count": 11,
   "metadata": {},
   "outputs": [
    {
     "data": {
      "text/plain": [
       "<matplotlib.collections.PathCollection at 0x2cf9c019f98>"
      ]
     },
     "execution_count": 11,
     "metadata": {},
     "output_type": "execute_result"
    },
    {
     "data": {
      "image/png": "[encoded data removed]",
      "text/plain": [
       "<matplotlib.figure.Figure at 0x2cf9c0909e8>"
      ]
     },
     "metadata": {},
     "output_type": "display_data"
    }
   ],
   "source": [
    "plot_data()\n",
    "plotContours(mu, sigma2)\n",
    "plt.scatter(xx[:,0], xx[:,1], s=80, facecolors='none', edgecolors='r')"
   ]
  },
  {
   "cell_type": "markdown",
   "metadata": {},
   "source": [
    "### 1.4 High dimensional dataset"
   ]
  },
  {
   "cell_type": "code",
   "execution_count": 12,
   "metadata": {},
   "outputs": [
    {
     "data": {
      "text/plain": [
       "(1000, 11)"
      ]
     },
     "execution_count": 12,
     "metadata": {},
     "output_type": "execute_result"
    }
   ],
   "source": [
    "mat = loadmat( 'data/ex8data2.mat' )\n",
    "X2 = mat['X']\n",
    "Xval2, yval2 = mat['Xval'], mat['yval']\n",
    "X2.shape"
   ]
  },
  {
   "cell_type": "code",
   "execution_count": 13,
   "metadata": {},
   "outputs": [
    {
     "data": {
      "text/plain": [
       "(1.378607498200024e-18, 117)"
      ]
     },
     "execution_count": 13,
     "metadata": {},
     "output_type": "execute_result"
    }
   ],
   "source": [
    "mu, sigma2 = getGaussianParams(X2, useMultivariate=False)\n",
    "ypred = gaussian(X2, mu, sigma2)\n",
    "\n",
    "yval2pred = gaussian(Xval2, mu, sigma2)\n",
    "\n",
    "# You should see a value epsilon of about 1.38e-18, and 117 anomalies found.\n",
    "bestF1, bestEps = selectThreshold(yval2, yval2pred)\n",
    "anoms = [X2[i] for i in range(X2.shape[0]) if ypred[i] < bestEps]\n",
    "bestEps, len(anoms)"
   ]
  },
  {
   "cell_type": "markdown",
   "metadata": {},
   "source": [
    "## 2 Recommender Systems\n",
    "\n",
    "实际上呢，这里使用的就是改良后的SVD矩阵分解算法。[矩阵分解在协同过滤推荐算法中的应用](http://www.cnblogs.com/pinard/p/6351319.html)\n",
    "\n",
    "这一部分，将实现协同过滤学习算法，并将其应用于电影评分数据集。这个数据集由1到5的等级组成。数据集有$n_u$ = 943个用户，$n_m$ = 1682部电影。"
   ]
  },
  {
   "cell_type": "markdown",
   "metadata": {},
   "source": [
    "### 2.1 Movie ratings dataset\n",
    "\n",
    "矩阵Y(nm, nu)是不同电影的不同用户的评分，行数为电影数目，列数为用户数目。\n",
    "\n",
    "矩阵R是二进制指示矩阵，R(i, j)=1 表示用户j 对电影i 有评分，R(i, j)=0 表示用户j对电影i没有评分。\n",
    "\n",
    "协同过滤的目标是预测用户还没有评分的电影的评分，也就是R(i, j) = 0的项。这将允许我们向用户推荐预测收视率最高的电影。\n",
    "\n",
    "![image.png](https://upload-images.jianshu.io/upload_images/11023262-81e39aa343b66d47.png?imageMogr2/auto-orient/strip%7CimageView2/2/w/1240)\n",
    "\n",
    "X第i行代表第i个电影的特征向量$x^{(i)}$，theta矩阵的第j列代表第j用户一个参数向量$\\theta_{(j)}$。$x^{(i)}$ 和 $\\theta^{(j)}$ 都是n维向量。\n",
    "\n",
    "这个练习，我们取n=100(这里实际上已经做了降维分解)，所以，X is a ($n_m$, 100) matrix and $\\theta$ is a ($n_u$, 100) matrix."
   ]
  },
  {
   "cell_type": "code",
   "execution_count": 14,
   "metadata": {},
   "outputs": [
    {
     "name": "stdout",
     "output_type": "stream",
     "text": [
      "dict_keys(['__header__', '__version__', '__globals__', 'Y', 'R'])\n"
     ]
    },
    {
     "data": {
      "text/plain": [
       "((1682, 943), (1682, 943))"
      ]
     },
     "execution_count": 14,
     "metadata": {},
     "output_type": "execute_result"
    }
   ],
   "source": [
    "mat = loadmat('data/ex8_movies.mat')\n",
    "print(mat.keys())\n",
    "Y, R = mat['Y'], mat['R']\n",
    "nm, nu = Y.shape  # Y中0代表用户没有评分\n",
    "nf = 100\n",
    "Y.shape, R.shape"
   ]
  },
  {
   "cell_type": "markdown",
   "metadata": {},
   "source": [
    "先来求第一个电影的评分的平均值，注意有些人是没有评分这电影的。"
   ]
  },
  {
   "cell_type": "code",
   "execution_count": 15,
   "metadata": {},
   "outputs": [
    {
     "data": {
      "text/plain": [
       "3.8783185840707963"
      ]
     },
     "execution_count": 15,
     "metadata": {},
     "output_type": "execute_result"
    }
   ],
   "source": [
    "Y[0].sum() / R[0].sum()  # 分子代表第一个电影的总分数，分母代表这部电影有多少评分数据"
   ]
  },
  {
   "cell_type": "code",
   "execution_count": 16,
   "metadata": {},
   "outputs": [
    {
     "data": {
      "text/plain": [
       "Text(0.5,0,'Users (943)')"
      ]
     },
     "execution_count": 16,
     "metadata": {},
     "output_type": "execute_result"
    },
    {
     "data": {
      "image/png": "[encoded data removed]",
      "text/plain": [
       "<matplotlib.figure.Figure at 0x2cf9c090da0>"
      ]
     },
     "metadata": {},
     "output_type": "display_data"
    }
   ],
   "source": [
    "# \"Visualize the ratings matrix\"\n",
    "fig = plt.figure(figsize=(8,8*(1682./943.)))\n",
    "plt.imshow(Y, cmap='rainbow')\n",
    "plt.colorbar()\n",
    "plt.ylabel('Movies (%d)'%nm,fontsize=20)\n",
    "plt.xlabel('Users (%d)'%nu,fontsize=20)"
   ]
  },
  {
   "cell_type": "markdown",
   "metadata": {},
   "source": [
    "### 2.2 Collaborative filtering learning algorithm\n",
    "\n",
    "这部分实现协同过滤算法，首先实现代价函数。\n",
    "\n",
    "这里我们考虑对每一个参数$x^{(1...n_m)}\\;and\\;\\theta^{(1...n_u)}$，都是一个n维的向量，这个n我们选取100。用户j对电影i的评分表示为$y^{(i,j)}=(\\theta^{(\\;j\\;)})^Tx^{(i)}$，给定一个评分数据集，我们想要学习出 $x^{(1)},...,x^{(n_m)}\\;and\\;\\theta^{(1)},...,\\theta^{(n_u)}$，使代价函数最小。\n",
    "\n",
    "也就是X矩阵，和θ矩阵。\n",
    "\n",
    "为了使用高级优化算法，我们要将X和θ的参数量结合成一维的数组传入，在函数中再分解。"
   ]
  },
  {
   "cell_type": "code",
   "execution_count": 17,
   "metadata": {
    "collapsed": true
   },
   "outputs": [],
   "source": [
    "mat = loadmat('data/ex8_movieParams.mat')\n",
    "X = mat['X']\n",
    "Theta = mat['Theta']\n",
    "nu = int(mat['num_users'])\n",
    "nm = int(mat['num_movies'])\n",
    "nf = int(mat['num_features'])\n",
    "# For now, reduce the data set size so that this runs faster\n",
    "nu = 4; nm = 5; nf = 3\n",
    "X = X[:nm,:nf]\n",
    "Theta = Theta[:nu,:nf]\n",
    "Y = Y[:nm,:nu]\n",
    "R = R[:nm,:nu]"
   ]
  },
  {
   "cell_type": "code",
   "execution_count": 18,
   "metadata": {},
   "outputs": [
    {
     "data": {
      "text/plain": [
       "((5, 3), (4, 3))"
      ]
     },
     "execution_count": 18,
     "metadata": {},
     "output_type": "execute_result"
    }
   ],
   "source": [
    "X.shape, Theta.shape"
   ]
  },
  {
   "cell_type": "markdown",
   "metadata": {},
   "source": [
    "#### 2.2.1 Collaborative filtering cost function\n",
    "\n",
    "协同过滤的参数都不需要加偏置项了，故都可以正则化。\n",
    "\n",
    "![image.png](https://upload-images.jianshu.io/upload_images/11023262-93e7fe405183ca25.png?imageMogr2/auto-orient/strip%7CimageView2/2/w/1240)\n"
   ]
  },
  {
   "cell_type": "code",
   "execution_count": 19,
   "metadata": {
    "collapsed": true
   },
   "outputs": [],
   "source": [
    "def serialize(X, Theta):\n",
    "    '''展开参数'''\n",
    "    return np.r_[X.flatten(),Theta.flatten()]"
   ]
  },
  {
   "cell_type": "code",
   "execution_count": 20,
   "metadata": {
    "collapsed": true
   },
   "outputs": [],
   "source": [
    "def deserialize(seq, nm, nu, nf):\n",
    "    '''提取参数'''\n",
    "    return seq[:nm*nf].reshape(nm, nf), seq[nm*nf:].reshape(nu, nf)"
   ]
  },
  {
   "cell_type": "code",
   "execution_count": 21,
   "metadata": {
    "collapsed": true
   },
   "outputs": [],
   "source": [
    "def cofiCostFunc(params, Y, R, nm, nu, nf, l=0):\n",
    "    \"\"\"\n",
    "    params : 拉成一维之后的参数向量(X, Theta)\n",
    "    Y : 评分矩阵 (nm, nu)\n",
    "    R ：0-1矩阵，表示用户对某一电影有无评分\n",
    "    nu : 用户数量\n",
    "    nm : 电影数量\n",
    "    nf : 自定义的特征的维度\n",
    "    l : lambda for regularization\n",
    "    \"\"\"\n",
    "    X, Theta = deserialize(params, nm, nu, nf)\n",
    "    \n",
    "    # (X@Theta)*R含义如下： 因为X@Theta是我们用自定义参数算的评分，但是有些电影本来是没有人\n",
    "    # 评分的，存储在R中，0-1表示。将这两个相乘，得到的值就是我们要的已经被评分过的电影的预测分数。\n",
    "    error = 0.5*np.square((X@Theta.T - Y)*R).sum()\n",
    "    reg1 = .5*l*np.square(Theta).sum()\n",
    "    reg2 = .5*l*np.square(X).sum()\n",
    "    \n",
    "    return error + reg1 +reg2"
   ]
  },
  {
   "cell_type": "code",
   "execution_count": 22,
   "metadata": {},
   "outputs": [
    {
     "data": {
      "text/plain": [
       "(22.224603725685675, 31.34405624427422)"
      ]
     },
     "execution_count": 22,
     "metadata": {},
     "output_type": "execute_result"
    }
   ],
   "source": [
    "cofiCostFunc(serialize(X,Theta),Y,R,nm,nu,nf),cofiCostFunc(serialize(X,Theta),Y,R,nm,nu,nf,1.5)"
   ]
  },
  {
   "cell_type": "markdown",
   "metadata": {},
   "source": [
    "#### 2.2.2 Collaborative filtering gradient\n",
    "\n",
    "![image.png](https://upload-images.jianshu.io/upload_images/11023262-31ce820fc2a55fc6.png?imageMogr2/auto-orient/strip%7CimageView2/2/w/1240)\n"
   ]
  },
  {
   "cell_type": "code",
   "execution_count": 23,
   "metadata": {
    "collapsed": true
   },
   "outputs": [],
   "source": [
    "def cofiGradient(params, Y, R, nm, nu, nf, l=0):\n",
    "    \"\"\"\n",
    "    计算X和Theta的梯度，并序列化输出。\n",
    "    \"\"\"\n",
    "    X, Theta = deserialize(params, nm, nu, nf)\n",
    "    \n",
    "    X_grad = ((X@Theta.T-Y)*R)@Theta + l*X\n",
    "    Theta_grad = ((X@Theta.T-Y)*R).T@X + l*Theta\n",
    "    \n",
    "    return serialize(X_grad, Theta_grad)"
   ]
  },
  {
   "cell_type": "code",
   "execution_count": 24,
   "metadata": {
    "collapsed": true
   },
   "outputs": [],
   "source": [
    "def checkGradient(params, Y, myR, nm, nu, nf, l = 0.):\n",
    "    \"\"\"\n",
    "    Let's check my gradient computation real quick\n",
    "    \"\"\"\n",
    "    print('Numerical Gradient \\t cofiGrad \\t\\t Difference')\n",
    "    \n",
    "    # 分析出来的梯度\n",
    "    grad = cofiGradient(params,Y,myR,nm,nu,nf,l)\n",
    "    \n",
    "    # 用 微小的e 来计算数值梯度。\n",
    "    e = 0.0001\n",
    "    nparams = len(params)\n",
    "    e_vec = np.zeros(nparams)\n",
    "\n",
    "    # Choose 10 random elements of param vector and compute the numerical gradient\n",
    "    # 每次只能改变e_vec中的一个值，并在计算完数值梯度后要还原。\n",
    "    for i in range(10):\n",
    "        idx = np.random.randint(0,nparams)\n",
    "        e_vec[idx] = e\n",
    "        loss1 = cofiCostFunc(params-e_vec,Y,myR,nm,nu,nf,l)\n",
    "        loss2 = cofiCostFunc(params+e_vec,Y,myR,nm,nu,nf,l)\n",
    "        numgrad = (loss2 - loss1) / (2*e)\n",
    "        e_vec[idx] = 0\n",
    "        diff = np.linalg.norm(numgrad - grad[idx]) / np.linalg.norm(numgrad + grad[idx])\n",
    "        print('%0.15f \\t %0.15f \\t %0.15f' %(numgrad, grad[idx], diff))"
   ]
  },
  {
   "cell_type": "code",
   "execution_count": 25,
   "metadata": {},
   "outputs": [
    {
     "name": "stdout",
     "output_type": "stream",
     "text": [
      "Checking gradient with lambda = 0...\n",
      "Numerical Gradient \t cofiGrad \t\t Difference\n",
      "-0.383582784628800 \t -0.383582784622124 \t 0.000000000008702\n",
      "0.000000000000000 \t 0.000000000000000 \t nan\n",
      "7.575703079698570 \t 7.575703079709334 \t 0.000000000000710\n",
      "0.000000000000000 \t 0.000000000000000 \t nan\n",
      "-0.568195965513496 \t -0.568195965515757 \t 0.000000000001990\n",
      "0.000000000000000 \t 0.000000000000000 \t nan\n",
      "7.575703079698570 \t 7.575703079709334 \t 0.000000000000710\n",
      "-2.528991646091328 \t -2.528991646082334 \t 0.000000000001778\n",
      "2.263336983912012 \t 2.263336983921972 \t 0.000000000002200\n",
      "-3.050990064075165 \t -3.050990064071511 \t 0.000000000000599\n",
      "\n",
      "Checking gradient with lambda = 1.5...\n",
      "Numerical Gradient \t cofiGrad \t\t Difference\n",
      "0.603080880985374 \t 0.603080880979296 \t 0.000000000005039\n",
      "4.901853273224788 \t 4.901853273231165 \t 0.000000000000650\n",
      "0.482440977869203 \t 0.482440977879083 \t 0.000000000010239\n",
      "0.129856157187191 \t 0.129856157163688 \t 0.000000000090497\n",
      "0.482440977869203 \t 0.482440977879083 \t 0.000000000010239\n",
      "6.975355139733352 \t 6.975355139747124 \t 0.000000000000987\n",
      "-0.892473343601097 \t -0.892473343597432 \t 0.000000000002053\n",
      "-0.718206734191540 \t -0.718206734196469 \t 0.000000000003431\n",
      "-2.293470242769047 \t -2.293470242774885 \t 0.000000000001273\n",
      "-0.718206734191540 \t -0.718206734196469 \t 0.000000000003431\n"
     ]
    },
    {
     "name": "stderr",
     "output_type": "stream",
     "text": [
      "D:\\Anaconda3\\lib\\site-packages\\ipykernel_launcher.py:24: RuntimeWarning: invalid value encountered in double_scalars\n"
     ]
    }
   ],
   "source": [
    "print(\"Checking gradient with lambda = 0...\")\n",
    "checkGradient(serialize(X,Theta), Y, R, nm, nu, nf)\n",
    "print(\"\\nChecking gradient with lambda = 1.5...\")\n",
    "checkGradient(serialize(X,Theta), Y, R, nm, nu, nf, l=1.5)"
   ]
  },
  {
   "cell_type": "markdown",
   "metadata": {},
   "source": [
    "### 2.3 Learning movie recommendations\n",
    "\n",
    "在我们训练协同过滤模型之前，我们先要获取所有电影的名称以及 添加与我们刚才观察到的新用户对应的评分。"
   ]
  },
  {
   "cell_type": "code",
   "execution_count": 26,
   "metadata": {},
   "outputs": [
    {
     "data": {
      "text/plain": [
       "['Toy Story (1995)',\n",
       " 'GoldenEye (1995)',\n",
       " 'Four Rooms (1995)',\n",
       " 'Get Shorty (1995)',\n",
       " 'Copycat (1995)',\n",
       " 'Shanghai Triad (Yao a yao yao dao waipo qiao) (1995)',\n",
       " 'Twelve Monkeys (1995)',\n",
       " 'Babe (1995)',\n",
       " 'Dead Man Walking (1995)',\n",
       " 'Richard III (1995)',\n",
       " 'Seven (Se7en) (1995)',\n",
       " 'Usual Suspects, The (1995)',\n",
       " 'Mighty Aphrodite (1995)',\n",
       " 'Postino, Il (1994)',\n",
       " \"Mr. Holland's Opus (1995)\",\n",
       " 'French Twist (Gazon maudit) (1995)',\n",
       " 'From Dusk Till Dawn (1996)',\n",
       " 'White Balloon, The (1995)',\n",
       " \"Antonia's Line (1995)\",\n",
       " 'Angels and Insects (1995)',\n",
       " 'Muppet Treasure Island (1996)',\n",
       " 'Braveheart (1995)',\n",
       " 'Taxi Driver (1976)',\n",
       " 'Rumble in the Bronx (1995)',\n",
       " 'Birdcage, The (1996)',\n",
       " 'Brothers McMullen, The (1995)',\n",
       " 'Bad Boys (1995)',\n",
       " 'Apollo 13 (1995)',\n",
       " 'Batman Forever (1995)',\n",
       " 'Belle de jour (1967)',\n",
       " 'Crimson Tide (1995)',\n",
       " 'Crumb (1994)',\n",
       " 'Desperado (1995)',\n",
       " 'Doom Generation, The (1995)',\n",
       " 'Free Willy 2: The Adventure Home (1995)',\n",
       " 'Mad Love (1995)',\n",
       " 'Nadja (1994)',\n",
       " 'Net, The (1995)',\n",
       " 'Strange Days (1995)',\n",
       " 'To Wong Foo, Thanks for Everything! Julie Newmar (1995)',\n",
       " 'Billy Madison (1995)',\n",
       " 'Clerks (1994)',\n",
       " 'Disclosure (1994)',\n",
       " 'Dolores Claiborne (1994)',\n",
       " 'Eat Drink Man Woman (1994)',\n",
       " 'Exotica (1994)',\n",
       " 'Ed Wood (1994)',\n",
       " 'Hoop Dreams (1994)',\n",
       " 'I.Q. (1994)',\n",
       " 'Star Wars (1977)',\n",
       " 'Legends of the Fall (1994)',\n",
       " 'Madness of King George, The (1994)',\n",
       " 'Natural Born Killers (1994)',\n",
       " 'Outbreak (1995)',\n",
       " 'Professional, The (1994)',\n",
       " 'Pulp Fiction (1994)',\n",
       " 'Priest (1994)',\n",
       " 'Quiz Show (1994)',\n",
       " 'Three Colors: Red (1994)',\n",
       " 'Three Colors: Blue (1993)',\n",
       " 'Three Colors: White (1994)',\n",
       " 'Stargate (1994)',\n",
       " 'Santa Clause, The (1994)',\n",
       " 'Shawshank Redemption, The (1994)',\n",
       " \"What's Eating Gilbert Grape (1993)\",\n",
       " 'While You Were Sleeping (1995)',\n",
       " 'Ace Ventura: Pet Detective (1994)',\n",
       " 'Crow, The (1994)',\n",
       " 'Forrest Gump (1994)',\n",
       " 'Four Weddings and a Funeral (1994)',\n",
       " 'Lion King, The (1994)',\n",
       " 'Mask, The (1994)',\n",
       " 'Maverick (1994)',\n",
       " 'Faster Pussycat! Kill! Kill! (1965)',\n",
       " 'Brother Minister: The Assassination of Malcolm X (1994)',\n",
       " \"Carlito's Way (1993)\",\n",
       " 'Firm, The (1993)',\n",
       " 'Free Willy (1993)',\n",
       " 'Fugitive, The (1993)',\n",
       " 'Hot Shots! Part Deux (1993)',\n",
       " 'Hudsucker Proxy, The (1994)',\n",
       " 'Jurassic Park (1993)',\n",
       " 'Much Ado About Nothing (1993)',\n",
       " \"Robert A. Heinlein's The Puppet Masters (1994)\",\n",
       " 'Ref, The (1994)',\n",
       " 'Remains of the Day, The (1993)',\n",
       " 'Searching for Bobby Fischer (1993)',\n",
       " 'Sleepless in Seattle (1993)',\n",
       " 'Blade Runner (1982)',\n",
       " 'So I Married an Axe Murderer (1993)',\n",
       " 'Nightmare Before Christmas, The (1993)',\n",
       " 'True Romance (1993)',\n",
       " 'Welcome to the Dollhouse (1995)',\n",
       " 'Home Alone (1990)',\n",
       " 'Aladdin (1992)',\n",
       " 'Terminator 2: Judgment Day (1991)',\n",
       " 'Dances with Wolves (1990)',\n",
       " 'Silence of the Lambs, The (1991)',\n",
       " 'Snow White and the Seven Dwarfs (1937)',\n",
       " 'Fargo (1996)',\n",
       " 'Heavy Metal (1981)',\n",
       " 'Aristocats, The (1970)',\n",
       " 'All Dogs Go to Heaven 2 (1996)',\n",
       " 'Theodore Rex (1995)',\n",
       " 'Sgt. Bilko (1996)',\n",
       " 'Diabolique (1996)',\n",
       " 'Moll Flanders (1996)',\n",
       " 'Kids in the Hall: Brain Candy (1996)',\n",
       " 'Mystery Science Theater 3000: The Movie (1996)',\n",
       " 'Operation Dumbo Drop (1995)',\n",
       " 'Truth About Cats & Dogs, The (1996)',\n",
       " 'Flipper (1996)',\n",
       " 'Horseman on the Roof, The (Hussard sur le toit, Le) (1995)',\n",
       " 'Wallace & Gromit: The Best of Aardman Animation (1996)',\n",
       " 'Haunted World of Edward D. Wood Jr., The (1995)',\n",
       " 'Cold Comfort Farm (1995)',\n",
       " 'Rock, The (1996)',\n",
       " 'Twister (1996)',\n",
       " 'Maya Lin: A Strong Clear Vision (1994)',\n",
       " 'Striptease (1996)',\n",
       " 'Independence Day (ID4) (1996)',\n",
       " 'Cable Guy, The (1996)',\n",
       " 'Frighteners, The (1996)',\n",
       " 'Lone Star (1996)',\n",
       " 'Phenomenon (1996)',\n",
       " 'Spitfire Grill, The (1996)',\n",
       " 'Godfather, The (1972)',\n",
       " 'Supercop (1992)',\n",
       " 'Bound (1996)',\n",
       " 'Kansas City (1996)',\n",
       " \"Breakfast at Tiffany's (1961)\",\n",
       " 'Wizard of Oz, The (1939)',\n",
       " 'Gone with the Wind (1939)',\n",
       " 'Citizen Kane (1941)',\n",
       " '2001: A Space Odyssey (1968)',\n",
       " 'Mr. Smith Goes to Washington (1939)',\n",
       " 'Big Night (1996)',\n",
       " 'D3: The Mighty Ducks (1996)',\n",
       " 'Love Bug, The (1969)',\n",
       " 'Homeward Bound: The Incredible Journey (1993)',\n",
       " '20,000 Leagues Under the Sea (1954)',\n",
       " 'Bedknobs and Broomsticks (1971)',\n",
       " 'Sound of Music, The (1965)',\n",
       " 'Die Hard (1988)',\n",
       " 'Lawnmower Man, The (1992)',\n",
       " 'Unhook the Stars (1996)',\n",
       " 'Long Kiss Goodnight, The (1996)',\n",
       " 'Ghost and the Darkness, The (1996)',\n",
       " 'Jude (1996)',\n",
       " 'Swingers (1996)',\n",
       " 'Willy Wonka and the Chocolate Factory (1971)',\n",
       " 'Sleeper (1973)',\n",
       " 'Fish Called Wanda, A (1988)',\n",
       " \"Monty Python's Life of Brian (1979)\",\n",
       " 'Dirty Dancing (1987)',\n",
       " 'Reservoir Dogs (1992)',\n",
       " 'Platoon (1986)',\n",
       " \"Weekend at Bernie's (1989)\",\n",
       " 'Basic Instinct (1992)',\n",
       " 'Glengarry Glen Ross (1992)',\n",
       " 'Top Gun (1986)',\n",
       " 'On Golden Pond (1981)',\n",
       " 'Return of the Pink Panther, The (1974)',\n",
       " 'Abyss, The (1989)',\n",
       " 'Jean de Florette (1986)',\n",
       " 'Manon of the Spring (Manon des sources) (1986)',\n",
       " 'Private Benjamin (1980)',\n",
       " 'Monty Python and the Holy Grail (1974)',\n",
       " 'Wrong Trousers, The (1993)',\n",
       " 'Cinema Paradiso (1988)',\n",
       " 'Delicatessen (1991)',\n",
       " 'Empire Strikes Back, The (1980)',\n",
       " 'Princess Bride, The (1987)',\n",
       " 'Raiders of the Lost Ark (1981)',\n",
       " 'Brazil (1985)',\n",
       " 'Aliens (1986)',\n",
       " 'Good, The Bad and The Ugly, The (1966)',\n",
       " '12 Angry Men (1957)',\n",
       " 'Clockwork Orange, A (1971)',\n",
       " 'Apocalypse Now (1979)',\n",
       " 'Return of the Jedi (1983)',\n",
       " 'GoodFellas (1990)',\n",
       " 'Alien (1979)',\n",
       " 'Army of Darkness (1993)',\n",
       " 'Psycho (1960)',\n",
       " 'Blues Brothers, The (1980)',\n",
       " 'Godfather: Part II, The (1974)',\n",
       " 'Full Metal Jacket (1987)',\n",
       " 'Grand Day Out, A (1992)',\n",
       " 'Henry V (1989)',\n",
       " 'Amadeus (1984)',\n",
       " 'Raging Bull (1980)',\n",
       " 'Right Stuff, The (1983)',\n",
       " 'Sting, The (1973)',\n",
       " 'Terminator, The (1984)',\n",
       " 'Dead Poets Society (1989)',\n",
       " 'Graduate, The (1967)',\n",
       " 'Nikita (La Femme Nikita) (1990)',\n",
       " 'Bridge on the River Kwai, The (1957)',\n",
       " 'Shining, The (1980)',\n",
       " 'Evil Dead II (1987)',\n",
       " 'Groundhog Day (1993)',\n",
       " 'Unforgiven (1992)',\n",
       " 'Back to the Future (1985)',\n",
       " 'Patton (1970)',\n",
       " 'Akira (1988)',\n",
       " 'Cyrano de Bergerac (1990)',\n",
       " 'Young Frankenstein (1974)',\n",
       " 'This Is Spinal Tap (1984)',\n",
       " 'Indiana Jones and the Last Crusade (1989)',\n",
       " 'M*A*S*H (1970)',\n",
       " 'Unbearable Lightness of Being, The (1988)',\n",
       " 'Room with a View, A (1986)',\n",
       " 'Pink Floyd - The Wall (1982)',\n",
       " 'Field of Dreams (1989)',\n",
       " 'When Harry Met Sally... (1989)',\n",
       " \"Bram Stoker's Dracula (1992)\",\n",
       " 'Cape Fear (1991)',\n",
       " 'Nightmare on Elm Street, A (1984)',\n",
       " 'Mirror Has Two Faces, The (1996)',\n",
       " 'Breaking the Waves (1996)',\n",
       " 'Star Trek: First Contact (1996)',\n",
       " 'Sling Blade (1996)',\n",
       " 'Ridicule (1996)',\n",
       " '101 Dalmatians (1996)',\n",
       " 'Die Hard 2 (1990)',\n",
       " 'Star Trek VI: The Undiscovered Country (1991)',\n",
       " 'Star Trek: The Wrath of Khan (1982)',\n",
       " 'Star Trek III: The Search for Spock (1984)',\n",
       " 'Star Trek IV: The Voyage Home (1986)',\n",
       " 'Batman Returns (1992)',\n",
       " 'Young Guns (1988)',\n",
       " 'Under Siege (1992)',\n",
       " 'Jaws (1975)',\n",
       " 'Mars Attacks! (1996)',\n",
       " 'Citizen Ruth (1996)',\n",
       " 'Jerry Maguire (1996)',\n",
       " 'Raising Arizona (1987)',\n",
       " 'Sneakers (1992)',\n",
       " 'Beavis and Butt-head Do America (1996)',\n",
       " 'Last of the Mohicans, The (1992)',\n",
       " 'Kolya (1996)',\n",
       " 'Jungle2Jungle (1997)',\n",
       " \"Smilla's Sense of Snow (1997)\",\n",
       " \"Devil's Own, The (1997)\",\n",
       " 'Chasing Amy (1997)',\n",
       " 'Turbo: A Power Rangers Movie (1997)',\n",
       " 'Grosse Pointe Blank (1997)',\n",
       " 'Austin Powers: International Man of Mystery (1997)',\n",
       " 'Fifth Element, The (1997)',\n",
       " 'Shall We Dance? (1996)',\n",
       " 'Lost World: Jurassic Park, The (1997)',\n",
       " 'Pillow Book, The (1995)',\n",
       " 'Batman & Robin (1997)',\n",
       " \"My Best Friend's Wedding (1997)\",\n",
       " 'When the Cats Away (Chacun cherche son chat) (1996)',\n",
       " 'Men in Black (1997)',\n",
       " 'Contact (1997)',\n",
       " 'George of the Jungle (1997)',\n",
       " 'Event Horizon (1997)',\n",
       " 'Air Bud (1997)',\n",
       " 'In the Company of Men (1997)',\n",
       " 'Steel (1997)',\n",
       " 'Mimic (1997)',\n",
       " 'Hunt for Red October, The (1990)',\n",
       " 'Kull the Conqueror (1997)',\n",
       " 'unknown',\n",
       " 'Chasing Amy (1997)',\n",
       " 'Full Monty, The (1997)',\n",
       " 'Gattaca (1997)',\n",
       " 'Starship Troopers (1997)',\n",
       " 'Good Will Hunting (1997)',\n",
       " 'Heat (1995)',\n",
       " 'Sabrina (1995)',\n",
       " 'Sense and Sensibility (1995)',\n",
       " 'Leaving Las Vegas (1995)',\n",
       " 'Restoration (1995)',\n",
       " 'Bed of Roses (1996)',\n",
       " 'Once Upon a Time... When We Were Colored (1995)',\n",
       " 'Up Close and Personal (1996)',\n",
       " 'River Wild, The (1994)',\n",
       " 'Time to Kill, A (1996)',\n",
       " 'Emma (1996)',\n",
       " 'Tin Cup (1996)',\n",
       " 'Secrets & Lies (1996)',\n",
       " 'English Patient, The (1996)',\n",
       " \"Marvin's Room (1996)\",\n",
       " 'Scream (1996)',\n",
       " 'Evita (1996)',\n",
       " 'Fierce Creatures (1997)',\n",
       " 'Absolute Power (1997)',\n",
       " 'Rosewood (1997)',\n",
       " 'Donnie Brasco (1997)',\n",
       " 'Liar Liar (1997)',\n",
       " 'Breakdown (1997)',\n",
       " 'Promesse, La (1996)',\n",
       " \"Ulee's Gold (1997)\",\n",
       " 'Face/Off (1997)',\n",
       " 'Hoodlum (1997)',\n",
       " 'Air Force One (1997)',\n",
       " 'In & Out (1997)',\n",
       " 'L.A. Confidential (1997)',\n",
       " \"Ulee's Gold (1997)\",\n",
       " 'Fly Away Home (1996)',\n",
       " 'Ice Storm, The (1997)',\n",
       " 'Mrs. Brown (Her Majesty, Mrs. Brown) (1997)',\n",
       " \"Devil's Advocate, The (1997)\",\n",
       " 'FairyTale: A True Story (1997)',\n",
       " 'Deceiver (1997)',\n",
       " 'Rainmaker, The (1997)',\n",
       " 'Wings of the Dove, The (1997)',\n",
       " 'Midnight in the Garden of Good and Evil (1997)',\n",
       " 'Titanic (1997)',\n",
       " '3 Ninjas: High Noon At Mega Mountain (1998)',\n",
       " 'Apt Pupil (1998)',\n",
       " 'As Good As It Gets (1997)',\n",
       " 'In the Name of the Father (1993)',\n",
       " \"Schindler's List (1993)\",\n",
       " 'Everyone Says I Love You (1996)',\n",
       " 'Paradise Lost: The Child Murders at Robin Hood Hills (1996)',\n",
       " 'Mother (1996)',\n",
       " 'Murder at 1600 (1997)',\n",
       " \"Dante's Peak (1997)\",\n",
       " 'Lost Highway (1997)',\n",
       " 'Crash (1996)',\n",
       " 'G.I. Jane (1997)',\n",
       " 'Cop Land (1997)',\n",
       " 'Conspiracy Theory (1997)',\n",
       " 'Desperate Measures (1998)',\n",
       " '187 (1997)',\n",
       " 'Edge, The (1997)',\n",
       " 'Kiss the Girls (1997)',\n",
       " 'Game, The (1997)',\n",
       " 'U Turn (1997)',\n",
       " 'How to Be a Player (1997)',\n",
       " 'Playing God (1997)',\n",
       " 'House of Yes, The (1997)',\n",
       " 'Bean (1997)',\n",
       " 'Mad City (1997)',\n",
       " 'Boogie Nights (1997)',\n",
       " 'Critical Care (1997)',\n",
       " 'Man Who Knew Too Little, The (1997)',\n",
       " 'Alien: Resurrection (1997)',\n",
       " 'Apostle, The (1997)',\n",
       " 'Deconstructing Harry (1997)',\n",
       " 'Jackie Brown (1997)',\n",
       " 'Wag the Dog (1997)',\n",
       " 'Desperate Measures (1998)',\n",
       " 'Hard Rain (1998)',\n",
       " 'Fallen (1998)',\n",
       " 'Prophecy II, The (1998)',\n",
       " 'Spice World (1997)',\n",
       " 'Deep Rising (1998)',\n",
       " 'Wedding Singer, The (1998)',\n",
       " 'Sphere (1998)',\n",
       " 'Client, The (1994)',\n",
       " \"One Flew Over the Cuckoo's Nest (1975)\",\n",
       " 'Spawn (1997)',\n",
       " 'Assignment, The (1997)',\n",
       " 'Wonderland (1997)',\n",
       " 'Incognito (1997)',\n",
       " 'Blues Brothers 2000 (1998)',\n",
       " 'Sudden Death (1995)',\n",
       " 'Ace Ventura: When Nature Calls (1995)',\n",
       " 'Powder (1995)',\n",
       " 'Dangerous Minds (1995)',\n",
       " 'Clueless (1995)',\n",
       " 'Bio-Dome (1996)',\n",
       " 'Black Sheep (1996)',\n",
       " 'Mary Reilly (1996)',\n",
       " 'Bridges of Madison County, The (1995)',\n",
       " 'Jeffrey (1995)',\n",
       " 'Judge Dredd (1995)',\n",
       " 'Mighty Morphin Power Rangers: The Movie (1995)',\n",
       " 'Showgirls (1995)',\n",
       " 'Houseguest (1994)',\n",
       " 'Heavyweights (1994)',\n",
       " 'Miracle on 34th Street (1994)',\n",
       " 'Tales From the Crypt Presents: Demon Knight (1995)',\n",
       " 'Star Trek: Generations (1994)',\n",
       " \"Muriel's Wedding (1994)\",\n",
       " 'Adventures of Priscilla, Queen of the Desert, The (1994)',\n",
       " 'Flintstones, The (1994)',\n",
       " 'Naked Gun 33 1/3: The Final Insult (1994)',\n",
       " 'True Lies (1994)',\n",
       " 'Addams Family Values (1993)',\n",
       " 'Age of Innocence, The (1993)',\n",
       " 'Beverly Hills Cop III (1994)',\n",
       " 'Black Beauty (1994)',\n",
       " 'Fear of a Black Hat (1993)',\n",
       " 'Last Action Hero (1993)',\n",
       " 'Man Without a Face, The (1993)',\n",
       " 'Mrs. Doubtfire (1993)',\n",
       " 'Radioland Murders (1994)',\n",
       " 'Robin Hood: Men in Tights (1993)',\n",
       " 'Serial Mom (1994)',\n",
       " 'Striking Distance (1993)',\n",
       " 'Super Mario Bros. (1993)',\n",
       " 'Three Musketeers, The (1993)',\n",
       " 'Little Rascals, The (1994)',\n",
       " 'Brady Bunch Movie, The (1995)',\n",
       " 'Ghost (1990)',\n",
       " 'Batman (1989)',\n",
       " 'Pinocchio (1940)',\n",
       " 'Mission: Impossible (1996)',\n",
       " 'Thinner (1996)',\n",
       " 'Spy Hard (1996)',\n",
       " 'Close Shave, A (1995)',\n",
       " 'Jack (1996)',\n",
       " 'Kingpin (1996)',\n",
       " 'Nutty Professor, The (1996)',\n",
       " 'Very Brady Sequel, A (1996)',\n",
       " 'Tales from the Crypt Presents: Bordello of Blood (1996)',\n",
       " 'My Favorite Year (1982)',\n",
       " 'Apple Dumpling Gang, The (1975)',\n",
       " 'Old Yeller (1957)',\n",
       " 'Parent Trap, The (1961)',\n",
       " 'Cinderella (1950)',\n",
       " 'Mary Poppins (1964)',\n",
       " 'Alice in Wonderland (1951)',\n",
       " \"William Shakespeare's Romeo and Juliet (1996)\",\n",
       " 'Aladdin and the King of Thieves (1996)',\n",
       " 'E.T. the Extra-Terrestrial (1982)',\n",
       " 'Children of the Corn: The Gathering (1996)',\n",
       " 'Bob Roberts (1992)',\n",
       " 'Transformers: The Movie, The (1986)',\n",
       " 'To Kill a Mockingbird (1962)',\n",
       " 'Harold and Maude (1971)',\n",
       " 'Day the Earth Stood Still, The (1951)',\n",
       " 'Duck Soup (1933)',\n",
       " 'Highlander (1986)',\n",
       " 'Fantasia (1940)',\n",
       " 'Heathers (1989)',\n",
       " 'Forbidden Planet (1956)',\n",
       " 'Butch Cassidy and the Sundance Kid (1969)',\n",
       " 'American Werewolf in London, An (1981)',\n",
       " \"Amityville 1992: It's About Time (1992)\",\n",
       " 'Amityville 3-D (1983)',\n",
       " 'Amityville: A New Generation (1993)',\n",
       " 'Amityville II: The Possession (1982)',\n",
       " 'Amityville Horror, The (1979)',\n",
       " 'Amityville Curse, The (1990)',\n",
       " 'Birds, The (1963)',\n",
       " 'Blob, The (1958)',\n",
       " 'Body Snatcher, The (1945)',\n",
       " 'Burnt Offerings (1976)',\n",
       " 'Carrie (1976)',\n",
       " 'Omen, The (1976)',\n",
       " 'Star Trek: The Motion Picture (1979)',\n",
       " 'Star Trek V: The Final Frontier (1989)',\n",
       " 'Grease (1978)',\n",
       " 'Jaws 2 (1978)',\n",
       " 'Jaws 3-D (1983)',\n",
       " 'Bastard Out of Carolina (1996)',\n",
       " \"Jackie Chan's First Strike (1996)\",\n",
       " 'Beverly Hills Ninja (1997)',\n",
       " 'Free Willy 3: The Rescue (1997)',\n",
       " 'Nixon (1995)',\n",
       " 'Cry, the Beloved Country (1995)',\n",
       " 'Crossing Guard, The (1995)',\n",
       " 'Smoke (1995)',\n",
       " 'Like Water For Chocolate (Como agua para chocolate) (1992)',\n",
       " 'Secret of Roan Inish, The (1994)',\n",
       " 'Vanya on 42nd Street (1994)',\n",
       " 'Jungle Book, The (1994)',\n",
       " 'Red Rock West (1992)',\n",
       " 'Bronx Tale, A (1993)',\n",
       " 'Rudy (1993)',\n",
       " 'Short Cuts (1993)',\n",
       " 'Tombstone (1993)',\n",
       " 'Courage Under Fire (1996)',\n",
       " 'Dragonheart (1996)',\n",
       " 'James and the Giant Peach (1996)',\n",
       " 'Dr. Strangelove or: How I Learned to Stop Worrying and Love the Bomb (1963)',\n",
       " 'Trainspotting (1996)',\n",
       " 'First Wives Club, The (1996)',\n",
       " 'Matilda (1996)',\n",
       " 'Philadelphia Story, The (1940)',\n",
       " 'Vertigo (1958)',\n",
       " 'North by Northwest (1959)',\n",
       " 'Apartment, The (1960)',\n",
       " 'Some Like It Hot (1959)',\n",
       " 'Casablanca (1942)',\n",
       " 'Maltese Falcon, The (1941)',\n",
       " 'My Fair Lady (1964)',\n",
       " 'Sabrina (1954)',\n",
       " 'Roman Holiday (1953)',\n",
       " 'Sunset Blvd. (1950)',\n",
       " 'Notorious (1946)',\n",
       " 'To Catch a Thief (1955)',\n",
       " 'Adventures of Robin Hood, The (1938)',\n",
       " 'East of Eden (1955)',\n",
       " 'Thin Man, The (1934)',\n",
       " 'His Girl Friday (1940)',\n",
       " 'Around the World in 80 Days (1956)',\n",
       " \"It's a Wonderful Life (1946)\",\n",
       " 'Bringing Up Baby (1938)',\n",
       " 'African Queen, The (1951)',\n",
       " 'Cat on a Hot Tin Roof (1958)',\n",
       " 'Fly Away Home (1996)',\n",
       " 'Dumbo (1941)',\n",
       " 'Bananas (1971)',\n",
       " 'Candidate, The (1972)',\n",
       " 'Bonnie and Clyde (1967)',\n",
       " 'Dial M for Murder (1954)',\n",
       " 'Rebel Without a Cause (1955)',\n",
       " 'Streetcar Named Desire, A (1951)',\n",
       " 'People vs. Larry Flynt, The (1996)',\n",
       " 'My Left Foot (1989)',\n",
       " 'Magnificent Seven, The (1954)',\n",
       " 'Lawrence of Arabia (1962)',\n",
       " 'Wings of Desire (1987)',\n",
       " 'Third Man, The (1949)',\n",
       " 'Annie Hall (1977)',\n",
       " 'Boot, Das (1981)',\n",
       " 'Local Hero (1983)',\n",
       " 'Manhattan (1979)',\n",
       " \"Miller's Crossing (1990)\",\n",
       " 'Treasure of the Sierra Madre, The (1948)',\n",
       " 'Great Escape, The (1963)',\n",
       " 'Deer Hunter, The (1978)',\n",
       " 'Down by Law (1986)',\n",
       " 'Cool Hand Luke (1967)',\n",
       " 'Great Dictator, The (1940)',\n",
       " 'Big Sleep, The (1946)',\n",
       " 'Ben-Hur (1959)',\n",
       " 'Gandhi (1982)',\n",
       " 'Killing Fields, The (1984)',\n",
       " 'My Life as a Dog (Mitt liv som hund) (1985)',\n",
       " 'Man Who Would Be King, The (1975)',\n",
       " 'Shine (1996)',\n",
       " 'Kama Sutra: A Tale of Love (1996)',\n",
       " 'Daytrippers, The (1996)',\n",
       " 'Traveller (1997)',\n",
       " 'Addicted to Love (1997)',\n",
       " 'Ponette (1996)',\n",
       " 'My Own Private Idaho (1991)',\n",
       " 'Anastasia (1997)',\n",
       " 'Mouse Hunt (1997)',\n",
       " 'Money Train (1995)',\n",
       " 'Mortal Kombat (1995)',\n",
       " 'Pocahontas (1995)',\n",
       " 'Mis閞ables, Les (1995)',\n",
       " \"Things to Do in Denver when You're Dead (1995)\",\n",
       " 'Vampire in Brooklyn (1995)',\n",
       " 'Broken Arrow (1996)',\n",
       " \"Young Poisoner's Handbook, The (1995)\",\n",
       " 'NeverEnding Story III, The (1994)',\n",
       " 'Rob Roy (1995)',\n",
       " 'Die Hard: With a Vengeance (1995)',\n",
       " 'Lord of Illusions (1995)',\n",
       " 'Species (1995)',\n",
       " 'Walk in the Clouds, A (1995)',\n",
       " 'Waterworld (1995)',\n",
       " \"White Man's Burden (1995)\",\n",
       " 'Wild Bill (1995)',\n",
       " 'Farinelli: il castrato (1994)',\n",
       " 'Heavenly Creatures (1994)',\n",
       " 'Interview with the Vampire (1994)',\n",
       " \"Kid in King Arthur's Court, A (1995)\",\n",
       " \"Mary Shelley's Frankenstein (1994)\",\n",
       " 'Quick and the Dead, The (1995)',\n",
       " \"Stephen King's The Langoliers (1995)\",\n",
       " 'Tales from the Hood (1995)',\n",
       " 'Village of the Damned (1995)',\n",
       " 'Clear and Present Danger (1994)',\n",
       " \"Wes Craven's New Nightmare (1994)\",\n",
       " 'Speed (1994)',\n",
       " 'Wolf (1994)',\n",
       " 'Wyatt Earp (1994)',\n",
       " 'Another Stakeout (1993)',\n",
       " 'Blown Away (1994)',\n",
       " 'Body Snatchers (1993)',\n",
       " 'Boxing Helena (1993)',\n",
       " \"City Slickers II: The Legend of Curly's Gold (1994)\",\n",
       " 'Cliffhanger (1993)',\n",
       " 'Coneheads (1993)',\n",
       " 'Demolition Man (1993)',\n",
       " 'Fatal Instinct (1993)',\n",
       " 'Englishman Who Went Up a Hill, But Came Down a Mountain, The (1995)',\n",
       " 'Kalifornia (1993)',\n",
       " 'Piano, The (1993)',\n",
       " 'Romeo Is Bleeding (1993)',\n",
       " 'Secret Garden, The (1993)',\n",
       " 'Son in Law (1993)',\n",
       " 'Terminal Velocity (1994)',\n",
       " 'Hour of the Pig, The (1993)',\n",
       " 'Beauty and the Beast (1991)',\n",
       " 'Wild Bunch, The (1969)',\n",
       " 'Hellraiser: Bloodline (1996)',\n",
       " 'Primal Fear (1996)',\n",
       " 'True Crime (1995)',\n",
       " 'Stalingrad (1993)',\n",
       " 'Heavy (1995)',\n",
       " 'Fan, The (1996)',\n",
       " 'Hunchback of Notre Dame, The (1996)',\n",
       " 'Eraser (1996)',\n",
       " 'Big Squeeze, The (1996)',\n",
       " 'Police Story 4: Project S (Chao ji ji hua) (1993)',\n",
       " \"Daniel Defoe's Robinson Crusoe (1996)\",\n",
       " 'For Whom the Bell Tolls (1943)',\n",
       " 'American in Paris, An (1951)',\n",
       " 'Rear Window (1954)',\n",
       " 'It Happened One Night (1934)',\n",
       " 'Meet Me in St. Louis (1944)',\n",
       " 'All About Eve (1950)',\n",
       " 'Rebecca (1940)',\n",
       " 'Spellbound (1945)',\n",
       " 'Father of the Bride (1950)',\n",
       " 'Gigi (1958)',\n",
       " 'Laura (1944)',\n",
       " 'Lost Horizon (1937)',\n",
       " 'My Man Godfrey (1936)',\n",
       " 'Giant (1956)',\n",
       " '39 Steps, The (1935)',\n",
       " 'Night of the Living Dead (1968)',\n",
       " 'Blue Angel, The (Blaue Engel, Der) (1930)',\n",
       " 'Picnic (1955)',\n",
       " 'Extreme Measures (1996)',\n",
       " 'Chamber, The (1996)',\n",
       " 'Davy Crockett, King of the Wild Frontier (1955)',\n",
       " 'Swiss Family Robinson (1960)',\n",
       " 'Angels in the Outfield (1994)',\n",
       " 'Three Caballeros, The (1945)',\n",
       " 'Sword in the Stone, The (1963)',\n",
       " 'So Dear to My Heart (1949)',\n",
       " 'Robin Hood: Prince of Thieves (1991)',\n",
       " 'Sleepers (1996)',\n",
       " 'Victor/Victoria (1982)',\n",
       " 'Great Race, The (1965)',\n",
       " 'Crying Game, The (1992)',\n",
       " \"Sophie's Choice (1982)\",\n",
       " 'Christmas Carol, A (1938)',\n",
       " \"Microcosmos: Le peuple de l'herbe (1996)\",\n",
       " 'Fog, The (1980)',\n",
       " 'Escape from New York (1981)',\n",
       " 'Howling, The (1981)',\n",
       " 'Return of Martin Guerre, The (Retour de Martin Guerre, Le) (1982)',\n",
       " 'Tin Drum, The (Blechtrommel, Die) (1979)',\n",
       " 'Cook the Thief His Wife & Her Lover, The (1989)',\n",
       " 'Paths of Glory (1957)',\n",
       " 'Grifters, The (1990)',\n",
       " 'The Innocent (1994)',\n",
       " 'Thin Blue Line, The (1988)',\n",
       " 'Paris Is Burning (1990)',\n",
       " 'Once Upon a Time in the West (1969)',\n",
       " 'Ran (1985)',\n",
       " 'Quiet Man, The (1952)',\n",
       " 'Once Upon a Time in America (1984)',\n",
       " 'Seventh Seal, The (Sjunde inseglet, Det) (1957)',\n",
       " 'Glory (1989)',\n",
       " 'Rosencrantz and Guildenstern Are Dead (1990)',\n",
       " 'Touch of Evil (1958)',\n",
       " 'Chinatown (1974)',\n",
       " 'Stand by Me (1986)',\n",
       " 'M (1931)',\n",
       " 'Manchurian Candidate, The (1962)',\n",
       " 'Pump Up the Volume (1990)',\n",
       " 'Arsenic and Old Lace (1944)',\n",
       " 'Fried Green Tomatoes (1991)',\n",
       " 'High Noon (1952)',\n",
       " 'Somewhere in Time (1980)',\n",
       " 'Being There (1979)',\n",
       " 'Paris, Texas (1984)',\n",
       " 'Alien 3 (1992)',\n",
       " \"Blood For Dracula (Andy Warhol's Dracula) (1974)\",\n",
       " 'Audrey Rose (1977)',\n",
       " 'Blood Beach (1981)',\n",
       " 'Body Parts (1991)',\n",
       " 'Body Snatchers (1993)',\n",
       " 'Bride of Frankenstein (1935)',\n",
       " 'Candyman (1992)',\n",
       " 'Cape Fear (1962)',\n",
       " 'Cat People (1982)',\n",
       " 'Nosferatu (Nosferatu, eine Symphonie des Grauens) (1922)',\n",
       " 'Crucible, The (1996)',\n",
       " 'Fire on the Mountain (1996)',\n",
       " 'Volcano (1997)',\n",
       " 'Conan the Barbarian (1981)',\n",
       " 'Kull the Conqueror (1997)',\n",
       " 'Wishmaster (1997)',\n",
       " 'I Know What You Did Last Summer (1997)',\n",
       " 'Rocket Man (1997)',\n",
       " 'In the Line of Fire (1993)',\n",
       " 'Executive Decision (1996)',\n",
       " 'Perfect World, A (1993)',\n",
       " \"McHale's Navy (1997)\",\n",
       " 'Leave It to Beaver (1997)',\n",
       " 'Jackal, The (1997)',\n",
       " 'Seven Years in Tibet (1997)',\n",
       " 'Dark City (1998)',\n",
       " 'American President, The (1995)',\n",
       " 'Casino (1995)',\n",
       " 'Persuasion (1995)',\n",
       " 'Kicking and Screaming (1995)',\n",
       " 'City Hall (1996)',\n",
       " 'Basketball Diaries, The (1995)',\n",
       " 'Browning Version, The (1994)',\n",
       " 'Little Women (1994)',\n",
       " 'Miami Rhapsody (1995)',\n",
       " 'Wonderful, Horrible Life of Leni Riefenstahl, The (1993)',\n",
       " 'Barcelona (1994)',\n",
       " \"Widows' Peak (1994)\",\n",
       " 'House of the Spirits, The (1993)',\n",
       " \"Singin' in the Rain (1952)\",\n",
       " 'Bad Moon (1996)',\n",
       " 'Enchanted April (1991)',\n",
       " 'Sex, Lies, and Videotape (1989)',\n",
       " 'Strictly Ballroom (1992)',\n",
       " 'Better Off Dead... (1985)',\n",
       " 'Substance of Fire, The (1996)',\n",
       " 'Tin Men (1987)',\n",
       " 'Othello (1995)',\n",
       " 'Carrington (1995)',\n",
       " 'To Die For (1995)',\n",
       " 'Home for the Holidays (1995)',\n",
       " 'Juror, The (1996)',\n",
       " 'In the Bleak Midwinter (1995)',\n",
       " 'Canadian Bacon (1994)',\n",
       " 'First Knight (1995)',\n",
       " 'Mallrats (1995)',\n",
       " 'Nine Months (1995)',\n",
       " 'Boys on the Side (1995)',\n",
       " 'Circle of Friends (1995)',\n",
       " 'Exit to Eden (1994)',\n",
       " 'Fluke (1995)',\n",
       " 'Immortal Beloved (1994)',\n",
       " 'Junior (1994)',\n",
       " 'Nell (1994)',\n",
       " 'Queen Margot (Reine Margot, La) (1994)',\n",
       " 'Corrina, Corrina (1994)',\n",
       " 'Dave (1993)',\n",
       " 'Go Fish (1994)',\n",
       " 'Made in America (1993)',\n",
       " 'Philadelphia (1993)',\n",
       " 'Shadowlands (1993)',\n",
       " 'Sirens (1994)',\n",
       " 'Threesome (1994)',\n",
       " 'Pretty Woman (1990)',\n",
       " 'Jane Eyre (1996)',\n",
       " 'Last Supper, The (1995)',\n",
       " 'Ransom (1996)',\n",
       " 'Crow: City of Angels, The (1996)',\n",
       " 'Michael Collins (1996)',\n",
       " 'Ruling Class, The (1972)',\n",
       " 'Real Genius (1985)',\n",
       " 'Benny & Joon (1993)',\n",
       " 'Saint, The (1997)',\n",
       " 'MatchMaker, The (1997)',\n",
       " 'Amistad (1997)',\n",
       " 'Tomorrow Never Dies (1997)',\n",
       " 'Replacement Killers, The (1998)',\n",
       " 'Burnt By the Sun (1994)',\n",
       " 'Red Corner (1997)',\n",
       " 'Jumanji (1995)',\n",
       " 'Father of the Bride Part II (1995)',\n",
       " 'Across the Sea of Time (1995)',\n",
       " 'Lawnmower Man 2: Beyond Cyberspace (1996)',\n",
       " 'Fair Game (1995)',\n",
       " 'Screamers (1995)',\n",
       " 'Nick of Time (1995)',\n",
       " 'Beautiful Girls (1996)',\n",
       " 'Happy Gilmore (1996)',\n",
       " 'If Lucy Fell (1996)',\n",
       " 'Boomerang (1992)',\n",
       " 'Man of the Year (1995)',\n",
       " 'Addiction, The (1995)',\n",
       " 'Casper (1995)',\n",
       " 'Congo (1995)',\n",
       " 'Devil in a Blue Dress (1995)',\n",
       " 'Johnny Mnemonic (1995)',\n",
       " 'Kids (1995)',\n",
       " 'Mute Witness (1994)',\n",
       " 'Prophecy, The (1995)',\n",
       " 'Something to Talk About (1995)',\n",
       " 'Three Wishes (1995)',\n",
       " 'Castle Freak (1995)',\n",
       " 'Don Juan DeMarco (1995)',\n",
       " 'Drop Zone (1994)',\n",
       " 'Dumb & Dumber (1994)',\n",
       " 'French Kiss (1995)',\n",
       " 'Little Odessa (1994)',\n",
       " 'Milk Money (1994)',\n",
       " 'Beyond Bedlam (1993)',\n",
       " 'Only You (1994)',\n",
       " 'Perez Family, The (1995)',\n",
       " 'Roommates (1995)',\n",
       " 'Relative Fear (1994)',\n",
       " 'Swimming with Sharks (1995)',\n",
       " 'Tommy Boy (1995)',\n",
       " 'Baby-Sitters Club, The (1995)',\n",
       " 'Bullets Over Broadway (1994)',\n",
       " 'Crooklyn (1994)',\n",
       " 'It Could Happen to You (1994)',\n",
       " 'Richie Rich (1994)',\n",
       " 'Speechless (1994)',\n",
       " 'Timecop (1994)',\n",
       " 'Bad Company (1995)',\n",
       " 'Boys Life (1995)',\n",
       " 'In the Mouth of Madness (1995)',\n",
       " 'Air Up There, The (1994)',\n",
       " 'Hard Target (1993)',\n",
       " 'Heaven & Earth (1993)',\n",
       " 'Jimmy Hollywood (1994)',\n",
       " 'Manhattan Murder Mystery (1993)',\n",
       " 'Menace II Society (1993)',\n",
       " 'Poetic Justice (1993)',\n",
       " 'Program, The (1993)',\n",
       " 'Rising Sun (1993)',\n",
       " 'Shadow, The (1994)',\n",
       " 'Thirty-Two Short Films About Glenn Gould (1993)',\n",
       " 'Andre (1994)',\n",
       " 'Celluloid Closet, The (1995)',\n",
       " 'Great Day in Harlem, A (1994)',\n",
       " 'One Fine Day (1996)',\n",
       " 'Candyman: Farewell to the Flesh (1995)',\n",
       " 'Frisk (1995)',\n",
       " 'Girl 6 (1996)',\n",
       " 'Eddie (1996)',\n",
       " 'Space Jam (1996)',\n",
       " 'Mrs. Winterbourne (1996)',\n",
       " 'Faces (1968)',\n",
       " 'Mulholland Falls (1996)',\n",
       " 'Great White Hype, The (1996)',\n",
       " 'Arrival, The (1996)',\n",
       " 'Phantom, The (1996)',\n",
       " 'Daylight (1996)',\n",
       " 'Alaska (1996)',\n",
       " 'Fled (1996)',\n",
       " 'Power 98 (1995)',\n",
       " 'Escape from L.A. (1996)',\n",
       " 'Bogus (1996)',\n",
       " 'Bulletproof (1996)',\n",
       " 'Halloween: The Curse of Michael Myers (1995)',\n",
       " 'Gay Divorcee, The (1934)',\n",
       " 'Ninotchka (1939)',\n",
       " 'Meet John Doe (1941)',\n",
       " 'In the Line of Duty 2 (1987)',\n",
       " 'Loch Ness (1995)',\n",
       " 'Last Man Standing (1996)',\n",
       " 'Glimmer Man, The (1996)',\n",
       " 'Pollyanna (1960)',\n",
       " 'Shaggy Dog, The (1959)',\n",
       " 'Freeway (1996)',\n",
       " 'That Thing You Do! (1996)',\n",
       " 'To Gillian on Her 37th Birthday (1996)',\n",
       " 'Looking for Richard (1996)',\n",
       " 'Murder, My Sweet (1944)',\n",
       " 'Days of Thunder (1990)',\n",
       " 'Perfect Candidate, A (1996)',\n",
       " 'Two or Three Things I Know About Her (1966)',\n",
       " 'Bloody Child, The (1996)',\n",
       " 'Braindead (1992)',\n",
       " 'Bad Taste (1987)',\n",
       " 'Diva (1981)',\n",
       " 'Night on Earth (1991)',\n",
       " 'Paris Was a Woman (1995)',\n",
       " 'Amityville: Dollhouse (1996)',\n",
       " \"April Fool's Day (1986)\",\n",
       " 'Believers, The (1987)',\n",
       " 'Nosferatu a Venezia (1986)',\n",
       " 'Jingle All the Way (1996)',\n",
       " 'Garden of Finzi-Contini, The (Giardino dei Finzi-Contini, Il) (1970)',\n",
       " 'My Fellow Americans (1996)',\n",
       " 'Ice Storm, The (1997)',\n",
       " 'Michael (1996)',\n",
       " 'Whole Wide World, The (1996)',\n",
       " 'Hearts and Minds (1996)',\n",
       " 'Fools Rush In (1997)',\n",
       " 'Touch (1997)',\n",
       " 'Vegas Vacation (1997)',\n",
       " 'Love Jones (1997)',\n",
       " 'Picture Perfect (1997)',\n",
       " 'Career Girls (1997)',\n",
       " \"She's So Lovely (1997)\",\n",
       " 'Money Talks (1997)',\n",
       " 'Excess Baggage (1997)',\n",
       " 'That Darn Cat! (1997)',\n",
       " 'Peacemaker, The (1997)',\n",
       " 'Soul Food (1997)',\n",
       " 'Money Talks (1997)',\n",
       " 'Washington Square (1997)',\n",
       " 'Telling Lies in America (1997)',\n",
       " 'Year of the Horse (1997)',\n",
       " 'Phantoms (1998)',\n",
       " 'Life Less Ordinary, A (1997)',\n",
       " \"Eve's Bayou (1997)\",\n",
       " 'One Night Stand (1997)',\n",
       " 'Tango Lesson, The (1997)',\n",
       " 'Mortal Kombat: Annihilation (1997)',\n",
       " 'Bent (1997)',\n",
       " 'Flubber (1997)',\n",
       " 'For Richer or Poorer (1997)',\n",
       " 'Home Alone 3 (1997)',\n",
       " 'Scream 2 (1997)',\n",
       " 'Sweet Hereafter, The (1997)',\n",
       " 'Time Tracers (1995)',\n",
       " 'Postman, The (1997)',\n",
       " 'Winter Guest, The (1997)',\n",
       " 'Kundun (1997)',\n",
       " 'Mr. Magoo (1997)',\n",
       " 'Big Lebowski, The (1998)',\n",
       " 'Afterglow (1997)',\n",
       " 'Ma vie en rose (My Life in Pink) (1997)',\n",
       " 'Great Expectations (1998)',\n",
       " 'Oscar & Lucinda (1997)',\n",
       " 'Vermin (1998)',\n",
       " 'Half Baked (1998)',\n",
       " 'Dangerous Beauty (1998)',\n",
       " 'Nil By Mouth (1997)',\n",
       " 'Twilight (1998)',\n",
       " 'U.S. Marshalls (1998)',\n",
       " 'Love and Death on Long Island (1997)',\n",
       " 'Wild Things (1998)',\n",
       " 'Primary Colors (1998)',\n",
       " 'Lost in Space (1998)',\n",
       " 'Mercury Rising (1998)',\n",
       " 'City of Angels (1998)',\n",
       " 'City of Lost Children, The (1995)',\n",
       " 'Two Bits (1995)',\n",
       " 'Farewell My Concubine (1993)',\n",
       " 'Dead Man (1995)',\n",
       " 'Raise the Red Lantern (1991)',\n",
       " 'White Squall (1996)',\n",
       " 'Unforgettable (1996)',\n",
       " 'Down Periscope (1996)',\n",
       " 'Flower of My Secret, The (Flor de mi secreto, La) (1995)',\n",
       " 'Craft, The (1996)',\n",
       " 'Harriet the Spy (1996)',\n",
       " 'Chain Reaction (1996)',\n",
       " 'Island of Dr. Moreau, The (1996)',\n",
       " 'First Kid (1996)',\n",
       " 'Funeral, The (1996)',\n",
       " \"Preacher's Wife, The (1996)\",\n",
       " 'Paradise Road (1997)',\n",
       " 'Brassed Off (1996)',\n",
       " 'Thousand Acres, A (1997)',\n",
       " 'Smile Like Yours, A (1997)',\n",
       " 'Murder in the First (1995)',\n",
       " 'Airheads (1994)',\n",
       " 'With Honors (1994)',\n",
       " \"What's Love Got to Do with It (1993)\",\n",
       " 'Killing Zoe (1994)',\n",
       " 'Renaissance Man (1994)',\n",
       " 'Charade (1963)',\n",
       " 'Fox and the Hound, The (1981)',\n",
       " 'Big Blue, The (Grand bleu, Le) (1988)',\n",
       " 'Booty Call (1997)',\n",
       " 'How to Make an American Quilt (1995)',\n",
       " 'Georgia (1995)',\n",
       " 'Indian in the Cupboard, The (1995)',\n",
       " 'Blue in the Face (1995)',\n",
       " 'Unstrung Heroes (1995)',\n",
       " 'Unzipped (1995)',\n",
       " 'Before Sunrise (1995)',\n",
       " \"Nobody's Fool (1994)\",\n",
       " 'Pushing Hands (1992)',\n",
       " 'To Live (Huozhe) (1994)',\n",
       " 'Dazed and Confused (1993)',\n",
       " 'Naked (1993)',\n",
       " 'Orlando (1993)',\n",
       " 'Ruby in Paradise (1993)',\n",
       " 'Some Folks Call It a Sling Blade (1993)',\n",
       " 'Month by the Lake, A (1995)',\n",
       " 'Funny Face (1957)',\n",
       " 'Affair to Remember, An (1957)',\n",
       " 'Little Lord Fauntleroy (1936)',\n",
       " 'Inspector General, The (1949)',\n",
       " 'Winnie the Pooh and the Blustery Day (1968)',\n",
       " 'Hear My Song (1991)',\n",
       " 'Mediterraneo (1991)',\n",
       " 'Passion Fish (1992)',\n",
       " 'Grateful Dead (1995)',\n",
       " 'Eye for an Eye (1996)',\n",
       " 'Fear (1996)',\n",
       " 'Solo (1996)',\n",
       " 'Substitute, The (1996)',\n",
       " \"Heaven's Prisoners (1996)\",\n",
       " 'Trigger Effect, The (1996)',\n",
       " 'Mother Night (1996)',\n",
       " 'Dangerous Ground (1997)',\n",
       " 'Maximum Risk (1996)',\n",
       " \"Rich Man's Wife, The (1996)\",\n",
       " 'Shadow Conspiracy (1997)',\n",
       " 'Blood & Wine (1997)',\n",
       " 'Turbulence (1997)',\n",
       " 'Underworld (1997)',\n",
       " 'Beautician and the Beast, The (1997)',\n",
       " \"Cats Don't Dance (1997)\",\n",
       " 'Anna Karenina (1997)',\n",
       " 'Keys to Tulsa (1997)',\n",
       " 'Head Above Water (1996)',\n",
       " 'Hercules (1997)',\n",
       " 'Last Time I Committed Suicide, The (1997)',\n",
       " 'Kiss Me, Guido (1997)',\n",
       " 'Big Green, The (1995)',\n",
       " 'Stuart Saves His Family (1995)',\n",
       " 'Cabin Boy (1994)',\n",
       " 'Clean Slate (1994)',\n",
       " 'Lightning Jack (1994)',\n",
       " ...]"
      ]
     },
     "execution_count": 26,
     "metadata": {},
     "output_type": "execute_result"
    }
   ],
   "source": [
    "movies = []  # 包含所有电影的列表\n",
    "with open('data/movie_ids.txt','r', encoding='utf-8') as f:\n",
    "    for line in f:\n",
    "#         movies.append(' '.join(line.strip().split(' ')[1:]))\n",
    "        movies.append(' '.join(line.strip().split(' ')[1:]))\n",
    "\n",
    "movies"
   ]
  },
  {
   "cell_type": "code",
   "execution_count": 27,
   "metadata": {},
   "outputs": [
    {
     "name": "stdout",
     "output_type": "stream",
     "text": [
      "[4.] Toy Story (1995)\n",
      "[3.] Twelve Monkeys (1995)\n",
      "[5.] Usual Suspects, The (1995)\n",
      "[4.] Outbreak (1995)\n",
      "[5.] Shawshank Redemption, The (1994)\n",
      "[3.] While You Were Sleeping (1995)\n",
      "[5.] Forrest Gump (1994)\n",
      "[2.] Silence of the Lambs, The (1991)\n",
      "[4.] Alien (1979)\n",
      "[5.] Die Hard 2 (1990)\n",
      "[5.] Sphere (1998)\n"
     ]
    }
   ],
   "source": [
    "my_ratings = np.zeros((1682,1))\n",
    "\n",
    "my_ratings[0]   = 4\n",
    "my_ratings[97]  = 2\n",
    "my_ratings[6]   = 3\n",
    "my_ratings[11]  = 5\n",
    "my_ratings[53]  = 4\n",
    "my_ratings[63]  = 5\n",
    "my_ratings[65]  = 3\n",
    "my_ratings[68]  = 5\n",
    "my_ratings[182] = 4\n",
    "my_ratings[225] = 5\n",
    "my_ratings[354] = 5\n",
    "\n",
    "for i in range(len(my_ratings)):\n",
    "    if my_ratings[i] > 0:\n",
    "        print(my_ratings[i], movies[i])"
   ]
  },
  {
   "cell_type": "markdown",
   "metadata": {},
   "source": [
    "导入Y矩阵以及R矩阵"
   ]
  },
  {
   "cell_type": "code",
   "execution_count": 28,
   "metadata": {},
   "outputs": [
    {
     "data": {
      "text/plain": [
       "((1682, 943), (1682, 943))"
      ]
     },
     "execution_count": 28,
     "metadata": {},
     "output_type": "execute_result"
    }
   ],
   "source": [
    "mat = loadmat('data/ex8_movies.mat')\n",
    "Y, R = mat['Y'], mat['R']\n",
    "Y.shape, R.shape"
   ]
  },
  {
   "cell_type": "markdown",
   "metadata": {},
   "source": [
    "将我们刚才添加的新用户数据合并到Y 和R"
   ]
  },
  {
   "cell_type": "code",
   "execution_count": 29,
   "metadata": {
    "collapsed": true
   },
   "outputs": [],
   "source": [
    "Y = np.c_[Y, my_ratings]  # (1682, 944)\n",
    "R = np.c_[R, my_ratings!=0]  # (1682, 944)\n",
    "nm, nu = Y.shape\n"
   ]
  },
  {
   "cell_type": "code",
   "execution_count": 30,
   "metadata": {
    "collapsed": true
   },
   "outputs": [],
   "source": [
    "nf = 10 # 我们使用10维的特征向量"
   ]
  },
  {
   "cell_type": "markdown",
   "metadata": {},
   "source": [
    "均值归一化数据，这个可以使一个完全没有评分的的特征最后也会获得非零值。是因为，最后要加回均值。\n",
    "\n",
    "注意只对有评分的数据求均值，没有评分的数据不包含在内，要用R矩阵判断。"
   ]
  },
  {
   "cell_type": "code",
   "execution_count": 31,
   "metadata": {
    "collapsed": true
   },
   "outputs": [],
   "source": [
    "def normalizeRatings(Y, R):\n",
    "    \"\"\"\n",
    "    The mean is only counting movies that were rated\n",
    "    \"\"\"\n",
    "    Ymean = (Y.sum(axis=1) / R.sum(axis=1)).reshape(-1,1)\n",
    "#     Ynorm = (Y - Ymean)*R  # 这里也要注意不要归一化未评分的数据\n",
    "    Ynorm = (Y - Ymean)*R  # 这里也要注意不要归一化未评分的数据\n",
    "    return Ynorm, Ymean"
   ]
  },
  {
   "cell_type": "code",
   "execution_count": 32,
   "metadata": {},
   "outputs": [
    {
     "data": {
      "text/plain": [
       "((1682, 944), (1682, 1))"
      ]
     },
     "execution_count": 32,
     "metadata": {},
     "output_type": "execute_result"
    }
   ],
   "source": [
    "Ynorm, Ymean = normalizeRatings(Y, R)\n",
    "Ynorm.shape, Ymean.shape"
   ]
  },
  {
   "cell_type": "markdown",
   "metadata": {},
   "source": [
    "生成初始化参数X矩阵，Theta矩阵"
   ]
  },
  {
   "cell_type": "code",
   "execution_count": 33,
   "metadata": {
    "collapsed": true
   },
   "outputs": [],
   "source": [
    "X = np.random.random((nm, nf))\n",
    "Theta = np.random.random((nu, nf))\n",
    "params = serialize(X, Theta)\n",
    "l = 10"
   ]
  },
  {
   "cell_type": "code",
   "execution_count": 49,
   "metadata": {
    "collapsed": true
   },
   "outputs": [],
   "source": [
    "import scipy.optimize as opt\n",
    "res = opt.minimize(fun=cofiCostFunc,\n",
    "                   x0=params,\n",
    "                   args=(Y, R, nm, nu, nf, l),\n",
    "                   method='TNC',\n",
    "                   jac=cofiGradient,\n",
    "                   options={'maxiter': 100})\n",
    "\n",
    "ret = res.x"
   ]
  },
  {
   "cell_type": "code",
   "execution_count": 35,
   "metadata": {
    "collapsed": true
   },
   "outputs": [],
   "source": [
    "# import scipy.optimize as opt\n",
    "# ret = opt.fmin_cg(cofiCostFunc, x0=params, fprime=cofiGradient, \n",
    "#                   args=(Y, R, nm, nu, nf, l), maxiter=100)"
   ]
  },
  {
   "cell_type": "code",
   "execution_count": 50,
   "metadata": {
    "collapsed": true
   },
   "outputs": [],
   "source": [
    "fit_X, fit_Theta = deserialize(ret, nm, nu, nf)"
   ]
  },
  {
   "cell_type": "markdown",
   "metadata": {},
   "source": [
    "#### 2.3.1 Recommendations\n",
    "\n",
    "现在我们就可以利用训练好的参数来预测用户的分数。"
   ]
  },
  {
   "cell_type": "code",
   "execution_count": 51,
   "metadata": {
    "collapsed": true
   },
   "outputs": [],
   "source": [
    "# 所有用户的剧场分数矩阵\n",
    "pred_mat = fit_X @ fit_Theta.T"
   ]
  },
  {
   "cell_type": "code",
   "execution_count": 52,
   "metadata": {
    "collapsed": true
   },
   "outputs": [],
   "source": [
    "# 最后一个用户的预测分数， 也就是我们刚才添加的用户\n",
    "pred = pred_mat[:,-1] + Ymean.flatten()"
   ]
  },
  {
   "cell_type": "code",
   "execution_count": 53,
   "metadata": {},
   "outputs": [
    {
     "data": {
      "text/plain": [
       "8.464745395004837"
      ]
     },
     "execution_count": 53,
     "metadata": {},
     "output_type": "execute_result"
    }
   ],
   "source": [
    "max(pred)"
   ]
  },
  {
   "cell_type": "code",
   "execution_count": 54,
   "metadata": {
    "collapsed": true
   },
   "outputs": [],
   "source": [
    "pred_sorted_idx = np.argsort(pred)[::-1] # 排序并翻转，使之从大到小排列"
   ]
  },
  {
   "cell_type": "markdown",
   "metadata": {},
   "source": [
    "作业中最后的截图应该是算错了，用的是非归一化的数据Y来训练的。所以我在这里也在这里用的非归一化的数据Y来训练的。事实上应该用归一化之后的数据Ynorm来训练，可自行尝试。"
   ]
  },
  {
   "cell_type": "code",
   "execution_count": 55,
   "metadata": {},
   "outputs": [
    {
     "name": "stdout",
     "output_type": "stream",
     "text": [
      "Top recommendations for you:\n",
      "Predicting rating 8.5 for movie Titanic (1997).\n",
      "Predicting rating 8.4 for movie Star Wars (1977).\n",
      "Predicting rating 8.3 for movie Shawshank Redemption, The (1994).\n",
      "Predicting rating 8.3 for movie Schindler's List (1993).\n",
      "Predicting rating 8.3 for movie Raiders of the Lost Ark (1981).\n",
      "Predicting rating 8.2 for movie Good Will Hunting (1997).\n",
      "Predicting rating 8.1 for movie Empire Strikes Back, The (1980).\n",
      "Predicting rating 8.1 for movie Wrong Trousers, The (1993).\n",
      "Predicting rating 8.0 for movie Casablanca (1942).\n",
      "Predicting rating 8.0 for movie Usual Suspects, The (1995).\n",
      "\n",
      "Original ratings provided:\n",
      "Rated 4 for movie Toy Story (1995).\n",
      "Rated 3 for movie Twelve Monkeys (1995).\n",
      "Rated 5 for movie Usual Suspects, The (1995).\n",
      "Rated 4 for movie Outbreak (1995).\n",
      "Rated 5 for movie Shawshank Redemption, The (1994).\n",
      "Rated 3 for movie While You Were Sleeping (1995).\n",
      "Rated 5 for movie Forrest Gump (1994).\n",
      "Rated 2 for movie Silence of the Lambs, The (1991).\n",
      "Rated 4 for movie Alien (1979).\n",
      "Rated 5 for movie Die Hard 2 (1990).\n",
      "Rated 5 for movie Sphere (1998).\n"
     ]
    }
   ],
   "source": [
    "print(\"Top recommendations for you:\")\n",
    "for i in range(10):\n",
    "    print('Predicting rating %0.1f for movie %s.' \\\n",
    "          %(pred[pred_sorted_idx[i]],movies[pred_sorted_idx[i]]))\n",
    "\n",
    "print(\"\\nOriginal ratings provided:\")\n",
    "for i in range(len(my_ratings)):\n",
    "    if my_ratings[i] > 0:\n",
    "        print('Rated %d for movie %s.'% (my_ratings[i],movies[i]))\n",
    "    "
   ]
  }
 ],
 "metadata": {
  "kernelspec": {
   "display_name": "Python 3",
   "language": "python",
   "name": "python3"
  },
  "language_info": {
   "codemirror_mode": {
    "name": "ipython",
    "version": 3
   },
   "file_extension": ".py",
   "mimetype": "text/x-python",
   "name": "python",
   "nbconvert_exporter": "python",
   "pygments_lexer": "ipython3",
   "version": "3.6.1"
  },
  "toc": {
   "nav_menu": {},
   "number_sections": false,
   "sideBar": true,
   "skip_h1_title": false,
   "title_cell": "Table of Contents",
   "title_sidebar": "Contents",
   "toc_cell": false,
   "toc_position": {
    "height": "calc(100% - 180px)",
    "left": "10px",
    "top": "150px",
    "width": "273px"
   },
   "toc_section_display": true,
   "toc_window_display": true
  }
 },
 "nbformat": 4,
 "nbformat_minor": 2
}
