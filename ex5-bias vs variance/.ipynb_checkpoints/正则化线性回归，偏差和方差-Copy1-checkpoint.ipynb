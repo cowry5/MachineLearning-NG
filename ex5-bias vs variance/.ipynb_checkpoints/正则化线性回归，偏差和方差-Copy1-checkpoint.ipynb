{
 "cells": [
  {
   "cell_type": "markdown",
   "metadata": {},
   "source": [
    "在本练习中，您将实现正则化的线性回归，并使用它来研究具有不同偏差-方差属性的模型"
   ]
  },
  {
   "cell_type": "markdown",
   "metadata": {},
   "source": [
    "## 1 Regularized Linear Regression\n",
    "\n",
    "在前半部分的练习中，你将实现正则化线性回归，以预测水库中的水位变化，从而预测大坝流出的水量。在下半部分中，您将通过一些调试学习算法的诊断，并检查偏差 v.s. 方差的影响。"
   ]
  },
  {
   "cell_type": "markdown",
   "metadata": {},
   "source": [
    "### 1.1 Visualizing the dataset\n",
    "\n",
    "我们将从可视化数据集开始，其中包含水位变化的历史记录，x，以及从大坝流出的水量，y。\n",
    "\n",
    "这个数据集分为了三个部分：\n",
    "- training set 训练集：训练模型\n",
    "- cross validation set 交叉验证集：决定正则化参数\n",
    "- test set 测试集：评估性能，模型训练中不曾用过的样本"
   ]
  },
  {
   "cell_type": "code",
   "execution_count": 531,
   "metadata": {
    "collapsed": true
   },
   "outputs": [],
   "source": [
    "%matplotlib inline\n",
    "import numpy as np\n",
    "import matplotlib.pyplot as plt\n",
    "from scipy.io import loadmat\n",
    "import scipy.optimize as opt"
   ]
  },
  {
   "cell_type": "code",
   "execution_count": 532,
   "metadata": {},
   "outputs": [
    {
     "name": "stdout",
     "output_type": "stream",
     "text": [
      "X=(12, 2),y=(12, 1)\n",
      "Xval=(21, 2),yval=(21, 1)\n",
      "Xtest=(21, 2),ytest=(21, 1)\n"
     ]
    }
   ],
   "source": [
    "path = 'ex5data1.mat'\n",
    "data = loadmat(path)\n",
    "#Training set\n",
    "X, y = data['X'], data['y']\n",
    "#Cross validation set\n",
    "Xval, yval = data['Xval'], data['yval']\n",
    "#Test set\n",
    "Xtest, ytest = data['Xtest'], data['ytest']\n",
    "#Insert a column of 1's to all of the X's, as usual\n",
    "X = np.insert(X    ,0,1,axis=1)\n",
    "Xval = np.insert(Xval ,0,1,axis=1)\n",
    "Xtest = np.insert(Xtest,0,1,axis=1)\n",
    "print('X={},y={}'.format(X.shape, y.shape))\n",
    "print('Xval={},yval={}'.format(Xval.shape, yval.shape))\n",
    "print('Xtest={},ytest={}'.format(Xtest.shape, ytest.shape))"
   ]
  },
  {
   "cell_type": "code",
   "execution_count": 533,
   "metadata": {
    "scrolled": true
   },
   "outputs": [
    {
     "data": {
      "image/png": "[encoded data removed]",
      "text/plain": [
       "<matplotlib.figure.Figure at 0x219a86bbd68>"
      ]
     },
     "metadata": {},
     "output_type": "display_data"
    }
   ],
   "source": [
    "def plotData():\n",
    "    plt.figure(figsize=(8,5))\n",
    "    plt.scatter(X[:,1:], y, c='r', marker='x')\n",
    "    plt.xlabel('Change in water level (x)')\n",
    "    plt.ylabel('Water flowing out of the dam (y)')\n",
    "    plt.grid(True)\n",
    "    \n",
    "plotData()"
   ]
  },
  {
   "cell_type": "markdown",
   "metadata": {},
   "source": [
    "### 1.2 Regularized linear regression cost function\n",
    "\n",
    "![image.png](https://upload-images.jianshu.io/upload_images/11023262-33264b2e9f116780.png?imageMogr2/auto-orient/strip%7CimageView2/2/w/1240)"
   ]
  },
  {
   "cell_type": "code",
   "execution_count": 534,
   "metadata": {
    "collapsed": true
   },
   "outputs": [],
   "source": [
    "def costReg(theta, X, y, l=1):\n",
    "    '''do not regularizethe theta0\n",
    "    theta is a 1-d array with shape (n+1,)\n",
    "    X is a matrix with shape (m, n+1)\n",
    "    y is a matrix with shape (m, 1)\n",
    "    '''\n",
    "    cost = ((X @ theta - y.flatten()) ** 2).sum()\n",
    "    regterm = l * (theta[1:] @ theta[1:])\n",
    "    return (cost + regterm) / (2 * len(X))"
   ]
  },
  {
   "cell_type": "code",
   "execution_count": 535,
   "metadata": {
    "scrolled": true
   },
   "outputs": [
    {
     "name": "stdout",
     "output_type": "stream",
     "text": [
      "303.9931922202643\n"
     ]
    }
   ],
   "source": [
    "theta = np.ones(X.shape[1])\n",
    "print(costReg(theta, X, y, 1))"
   ]
  },
  {
   "cell_type": "markdown",
   "metadata": {},
   "source": [
    "### 1.3 Regularized linear regression gradient\n",
    "\n",
    "![image.png](https://upload-images.jianshu.io/upload_images/11023262-a1535bcc657c400a.png?imageMogr2/auto-orient/strip%7CimageView2/2/w/1240)"
   ]
  },
  {
   "cell_type": "code",
   "execution_count": 536,
   "metadata": {},
   "outputs": [
    {
     "name": "stdout",
     "output_type": "stream",
     "text": [
      "[-15.30301567 598.25074417]\n"
     ]
    }
   ],
   "source": [
    "def gradientReg(theta, X, y, l):\n",
    "    \"\"\"\n",
    "    theta: 1-d array with shape (2,)\n",
    "    X: matrix with shape (12, 2)\n",
    "    y: matrix with shape (12, 1)\n",
    "    l: lambda constant\n",
    "    grad has same shape as theta (2,)\n",
    "    \"\"\"\n",
    "    grad = (X @ theta - y.flatten()) @ X\n",
    "    regterm = l * theta\n",
    "    regterm[0] = 0  # #don't regulate bias term\n",
    "    return (grad + regterm) / len(X)\n",
    "\n",
    "print(gradientReg(theta, X, y, 1))"
   ]
  },
  {
   "cell_type": "markdown",
   "metadata": {},
   "source": [
    "### 1.4 Fitting linear regression"
   ]
  },
  {
   "cell_type": "code",
   "execution_count": 537,
   "metadata": {},
   "outputs": [],
   "source": [
    "def trainLinearReg(X, y, l):\n",
    "    theta = np.zeros(X.shape[1])\n",
    "    res = opt.minimize(fun=costReg, \n",
    "                       x0=theta, \n",
    "                       args=(X, y ,l), \n",
    "                       method='TNC', \n",
    "                       jac=gradientReg)\n",
    "    print(res)\n",
    "    return res.x"
   ]
  },
  {
   "cell_type": "code",
   "execution_count": 538,
   "metadata": {
    "scrolled": true
   },
   "outputs": [
    {
     "name": "stdout",
     "output_type": "stream",
     "text": [
      "     fun: 22.373906495108912\n",
      "     jac: array([2.81420398e-09, 8.95562670e-08])\n",
      " message: 'Local minimum reached (|pg| ~= 0)'\n",
      "    nfev: 9\n",
      "     nit: 4\n",
      "  status: 0\n",
      " success: True\n",
      "       x: array([13.08790351,  0.36777923])\n"
     ]
    },
    {
     "data": {
      "text/plain": [
       "[<matplotlib.lines.Line2D at 0x219a669a4a8>]"
      ]
     },
     "execution_count": 538,
     "metadata": {},
     "output_type": "execute_result"
    },
    {
     "data": {
      "image/png": "[encoded data removed]",
      "text/plain": [
       "<matplotlib.figure.Figure at 0x219a669a438>"
      ]
     },
     "metadata": {},
     "output_type": "display_data"
    }
   ],
   "source": [
    "fit_theta = trainLinearReg(X, y, 0)\n",
    "plotData()\n",
    "plt.plot(X[:,1], X @ fit_theta)"
   ]
  },
  {
   "cell_type": "markdown",
   "metadata": {},
   "source": [
    "这里我们把$\\lambda$ = 0，因为我们现在实现的线性回归只有两个参数，这么低的维度，正则化并没有用。\n",
    "\n",
    "从图中可以看到，拟合最好的这条直线告诉我们这个模型并不适合这个数据，因为它并没有一个线性的模式。\n",
    "\n",
    "在下一节中，您将实现一个函数来生成学习曲线，它可以帮助您调试学习算法，即使可视化数据不那么容易。"
   ]
  },
  {
   "cell_type": "markdown",
   "metadata": {},
   "source": [
    "## 2 Bias-variance\n",
    "\n",
    "机器学习中一个重要的概念是偏差（bias）和方差（variance）的权衡。高偏差意味着欠拟合，高方差意味着过拟合。\n",
    "\n",
    "在这部分练习中，您将在学习曲线上绘制训练误差和验证误差，以诊断bias-variance问题。"
   ]
  },
  {
   "cell_type": "markdown",
   "metadata": {},
   "source": [
    "### 2.1 Learning curves 学习曲线\n",
    "\n",
    "![image.png](https://upload-images.jianshu.io/upload_images/11023262-c532ba2077cca7c6.png?imageMogr2/auto-orient/strip%7CimageView2/2/w/1240)\n",
    "\n",
    "训练样本X从1开始逐渐增加，训练出不同的参数向量θ。接着通过交叉验证样本Xval计算验证误差。\n",
    "\n",
    "1.使用训练集的子集来拟合应模型\n",
    "\n",
    "2.在计算训练代价和交叉验证代价时，没有用正则化\n",
    "\n",
    "3.记住使用相同的交叉验证集来计算验证代价"
   ]
  },
  {
   "cell_type": "code",
   "execution_count": 543,
   "metadata": {
    "collapsed": true
   },
   "outputs": [],
   "source": [
    "def learningCurve(X, y, Xval, yval, l):\n",
    "    theta = np.zeros(X.shape[1])\n",
    "    xx = range(1, len(X) + 1)  # at least has one example \n",
    "    training_cost = []\n",
    "    cv_cost = []\n",
    "    for i in xx:\n",
    "        res = trainLinearReg(X[:i], y[:i], l)\n",
    "        training_cost_i = costReg(res, X[:i], y[:i], l)\n",
    "        cv_cost_i = costReg(res, Xval, yval, l)\n",
    "        training_cost.append(training_cost_i)\n",
    "        cv_cost.append(cv_cost_i)\n",
    "        \n",
    "    plt.figure(figsize=(8,6))\n",
    "    plt.plot(xx, training_cost, label='training cost')  \n",
    "    plt.plot(xx, cv_cost, label='cv cost') \n",
    "    plt.legend()\n",
    "    plt.xlabel('Number of training examples')\n",
    "    plt.ylabel('Error')\n",
    "    plt.title('Learning curve for linear regression')\n",
    "    plt.grid(True)"
   ]
  },
  {
   "cell_type": "code",
   "execution_count": 544,
   "metadata": {
    "scrolled": false
   },
   "outputs": [
    {
     "name": "stdout",
     "output_type": "stream",
     "text": [
      "     fun: 1.0176953929799205e-18\n",
      "     jac: array([-1.42667123e-09,  2.27365143e-08])\n",
      " message: 'Local minimum reached (|pg| ~= 0)'\n",
      "    nfev: 3\n",
      "     nit: 1\n",
      "  status: 0\n",
      " success: True\n",
      "       x: array([ 0.00837049, -0.13339852])\n",
      "     fun: 3.466571458294657e-09\n",
      "     jac: array([-7.99586281e-05,  1.64913219e-03])\n",
      " message: 'Converged (|f_n-f_(n-1)| ~= 0)'\n",
      "    nfev: 33\n",
      "     nit: 16\n",
      "  status: 1\n",
      " success: True\n",
      "       x: array([3.29303644, 0.07271423])\n",
      "     fun: 3.2865950455012887\n",
      "     jac: array([-1.97101689e-07, -7.82238866e-09])\n",
      " message: 'Converged (|f_n-f_(n-1)| ~= 0)'\n",
      "    nfev: 9\n",
      "     nit: 4\n",
      "  status: 1\n",
      " success: True\n",
      "       x: array([14.15498972,  0.53912266])\n",
      "     fun: 2.8426776893998644\n",
      "     jac: array([3.63598068e-07, 1.39127874e-08])\n",
      " message: 'Converged (|f_n-f_(n-1)| ~= 0)'\n",
      "    nfev: 9\n",
      "     nit: 4\n",
      "  status: 1\n",
      " success: True\n",
      "       x: array([14.62429867,  0.55985727])\n",
      "     fun: 13.15404880911492\n",
      "     jac: array([ 1.74399833e-08, -5.92194533e-07])\n",
      " message: 'Local minimum reached (|pg| ~= 0)'\n",
      "    nfev: 9\n",
      "     nit: 4\n",
      "  status: 0\n",
      " success: True\n",
      "       x: array([17.21375979,  0.44974975])\n",
      "     fun: 19.443962512495478\n",
      "     jac: array([1.69171967e-07, 4.84356377e-09])\n",
      " message: 'Converged (|f_n-f_(n-1)| ~= 0)'\n",
      "    nfev: 9\n",
      "     nit: 4\n",
      "  status: 1\n",
      " success: True\n",
      "       x: array([15.40485123,  0.45741711])\n",
      "     fun: 20.098521655088888\n",
      "     jac: array([-1.17478779e-07, -3.57492727e-09])\n",
      " message: 'Converged (|f_n-f_(n-1)| ~= 0)'\n",
      "    nfev: 9\n",
      "     nit: 4\n",
      "  status: 1\n",
      " success: True\n",
      "       x: array([14.26677998,  0.4368173 ])\n",
      "     fun: 18.17285869520002\n",
      "     jac: array([-3.64501316e-08, -6.59949581e-07])\n",
      " message: 'Converged (|f_n-f_(n-1)| ~= 0)'\n",
      "    nfev: 9\n",
      "     nit: 4\n",
      "  status: 1\n",
      " success: True\n",
      "       x: array([14.62343988,  0.42312838])\n",
      "     fun: 22.60940542495473\n",
      "     jac: array([ 7.62484331e-08, -2.27994257e-06])\n",
      " message: 'Linear search failed'\n",
      "    nfev: 9\n",
      "     nit: 3\n",
      "  status: 4\n",
      " success: False\n",
      "       x: array([13.29661017,  0.41299409])\n",
      "     fun: 23.261461592611816\n",
      "     jac: array([8.80911344e-11, 1.95693303e-08])\n",
      " message: 'Local minimum reached (|pg| ~= 0)'\n",
      "    nfev: 9\n",
      "     nit: 4\n",
      "  status: 0\n",
      " success: True\n",
      "       x: array([13.85366299,  0.37780979])\n",
      "     fun: 24.31724958804416\n",
      "     jac: array([3.31698434e-09, 1.00365798e-07])\n",
      " message: 'Local minimum reached (|pg| ~= 0)'\n",
      "    nfev: 9\n",
      "     nit: 4\n",
      "  status: 0\n",
      " success: True\n",
      "       x: array([12.93724156,  0.36342988])\n",
      "     fun: 22.373906495108912\n",
      "     jac: array([2.81420398e-09, 8.95562670e-08])\n",
      " message: 'Local minimum reached (|pg| ~= 0)'\n",
      "    nfev: 9\n",
      "     nit: 4\n",
      "  status: 0\n",
      " success: True\n",
      "       x: array([13.08790351,  0.36777923])\n"
     ]
    },
    {
     "data": {
      "image/png": "[encoded data removed]",
      "text/plain": [
       "<matplotlib.figure.Figure at 0x219a669a828>"
      ]
     },
     "metadata": {},
     "output_type": "display_data"
    }
   ],
   "source": [
    "learningCurve(X, y, Xval, yval, 0)"
   ]
  },
  {
   "cell_type": "markdown",
   "metadata": {},
   "source": [
    "从图中看出来，随着样本数量的增加，训练误差和交叉验证误差都很高，这属于高偏差，欠拟合。"
   ]
  },
  {
   "cell_type": "markdown",
   "metadata": {},
   "source": [
    "## 3 Polynomial regression 多项式回归\n",
    "\n",
    "我们的线性模型对于数据来说太简单了，导致了欠拟合(高偏差)。在这一部分的练习中，您将通过添加更多的特性来解决这个问题。\n",
    "\n",
    "使用多项式回归，假设函数形式如下：\n",
    "![image.png](https://upload-images.jianshu.io/upload_images/11023262-0048932987bbaf06.png?imageMogr2/auto-orient/strip%7CimageView2/2/w/1240)"
   ]
  },
  {
   "cell_type": "markdown",
   "metadata": {},
   "source": [
    "### 3.1 Learning Polynomial Regression "
   ]
  },
  {
   "cell_type": "markdown",
   "metadata": {},
   "source": [
    "#### 数据预处理\n",
    "\n",
    "1. X，Xval，Xtest都需要添加多项式特征，这里我们选择增加到8次方，即 p=8 。\n",
    "\n",
    "2. 不要忘了归一化\n",
    "\n",
    "3. 最后增加偏置项。"
   ]
  },
  {
   "cell_type": "code",
   "execution_count": 545,
   "metadata": {},
   "outputs": [],
   "source": [
    "def prepare_poly_data(*args, power):\n",
    "    '''准备多项式特征，包括上述三个步骤'''\n",
    "    def genPolyFeatures(X, power):\n",
    "        \"\"\"添加特征\n",
    "        每次在最后一列插入第二列（第一列为偏置）的i+2次方\n",
    "        从二次方开始开始插入（因为本身含有一列一次方）\n",
    "        \"\"\"\n",
    "        Xpoly = X.copy()\n",
    "        for i in range(2, power + 1):\n",
    "            Xpoly = np.insert(Xpoly, Xpoly.shape[1], np.power(Xpoly[:,1], i), axis=1)\n",
    "        return Xpoly\n",
    "    def normalize_feature(X):\n",
    "        \"\"\"对每一列归一化\n",
    "        不对第一列（偏置）归一化\n",
    "        \"\"\"\n",
    "        Xnorm = X.copy()\n",
    "        for i in range(1, Xnorm.shape[1]):\n",
    "            Xnorm[:, i] = (Xnorm[:,i] - Xnorm[:,i].mean()) / Xnorm[:,i].std()\n",
    "        return Xnorm\n",
    "    def prepare(X):\n",
    "        Xpoly = genPolyFeatures(X, power=power)\n",
    "        Xnorm = normalize_feature(Xpoly)\n",
    "        return Xnorm\n",
    "    return [np.array(prepare(X)) for X in args]"
   ]
  },
  {
   "cell_type": "code",
   "execution_count": null,
   "metadata": {
    "collapsed": true
   },
   "outputs": [],
   "source": [
    "def genPolyFeatures(myX,p):\n",
    "    \"\"\"\n",
    "    Function takes in the X matrix (with bias term already included as the first column)\n",
    "    and returns an X matrix with \"p\" additional columns.\n",
    "    The first additional column will be the 2nd column (first non-bias column) squared,\n",
    "    the next additional column will be the 2nd column cubed, etc.\n",
    "    \"\"\"\n",
    "    newX = myX.copy()\n",
    "    for i in range(p):\n",
    "        dim = i+2\n",
    "        newX = np.insert(newX,newX.shape[1],np.power(newX[:,1],dim),axis=1)\n",
    "    return newX\n",
    "\n",
    "def featureNormalize(myX):\n",
    "    \"\"\"\n",
    "    Takes as input the X array (with bias \"1\" first column), does\n",
    "    feature normalizing on the columns (subtract mean, divide by standard deviation).\n",
    "    Returns the feature-normalized X, and feature means and stds in a list\n",
    "    Note this is different than my implementation in assignment 1...\n",
    "    I didn't realize you should subtract the means, THEN compute std of the\n",
    "    mean-subtracted columns.\n",
    "    Doesn't make a huge difference, I've found\n",
    "    \"\"\"\n",
    "   \n",
    "    Xnorm = myX.copy()\n",
    "    stored_feature_means = np.mean(Xnorm,axis=0) #column-by-column\n",
    "    Xnorm[:,1:] = Xnorm[:,1:] - stored_feature_means[1:]\n",
    "    stored_feature_stds = np.std(Xnorm,axis=0,ddof=1)\n",
    "    Xnorm[:,1:] = Xnorm[:,1:] / stored_feature_stds[1:]\n",
    "    return Xnorm, stored_feature_means, stored_feature_stds\n",
    "    "
   ]
  },
  {
   "cell_type": "code",
   "execution_count": 546,
   "metadata": {
    "scrolled": false
   },
   "outputs": [
    {
     "name": "stdout",
     "output_type": "stream",
     "text": [
      "     fun: 0.19805302785989365\n",
      "     jac: array([ 3.70434105e-06,  2.79801994e-06, -5.01934445e-07, -4.23985601e-06,\n",
      "       -3.51410043e-06,  1.64164050e-06,  3.66340085e-06])\n",
      " message: 'Converged (|f_n-f_(n-1)| ~= 0)'\n",
      "    nfev: 67\n",
      "     nit: 17\n",
      "  status: 1\n",
      " success: True\n",
      "       x: array([ 11.21759303,  10.88896602,  12.86456709,  10.27321311,\n",
      "        -4.213255  , -11.40079895,  -4.89002634])\n"
     ]
    }
   ],
   "source": [
    "X_poly, Xval_poly, Xtest_poly= prepare_poly_data(X, Xval, Xtest, power=6)\n",
    "fit_theta = trainLinearReg(X_poly, y, 0)"
   ]
  },
  {
   "cell_type": "code",
   "execution_count": 547,
   "metadata": {},
   "outputs": [
    {
     "data": {
      "image/png": "[encoded data removed]",
      "text/plain": [
       "<matplotlib.figure.Figure at 0x219a873b630>"
      ]
     },
     "metadata": {},
     "output_type": "display_data"
    }
   ],
   "source": [
    "def plot_fit(theta):\n",
    "    x = np.linspace(-75,55,50).reshape(-1,1)\n",
    "    xx = np.insert(x,0,1,axis=1)\n",
    "    xxx = prepare_poly_data(xx, power=6)\n",
    "    plotData()\n",
    "    plt.plot(x.flatten(), (xxx @ theta).flatten(),'b--')\n",
    "\n",
    "plot_fit(fit_theta)"
   ]
  },
  {
   "cell_type": "code",
   "execution_count": null,
   "metadata": {
    "collapsed": true
   },
   "outputs": [],
   "source": [
    "def plot_learning_curve(X, y, Xval, yval, l):\n",
    "    training_cost, cv_cost = [], []\n",
    "    xx = range(1, len(X) + 1) \n",
    "    for i in range(1, len(X) + 1):\n",
    "        res = trainLinearReg(X[:i, :], y[:i], l)\n",
    "        # 记住，在画学习曲线时计算代价时，不要正则化，正则化仅在训练模型时使用。\n",
    "        tc = costReg(res.x, X[:i, :], y[:i],0)\n",
    "        cv = costReg(res.x, Xval, yval,0)\n",
    "\n",
    "        training_cost.append(tc)\n",
    "        cv_cost.append(cv)\n",
    "\n",
    "    result = trainLinearReg(X, y, l)\n",
    "    theta = result.x\n",
    "    \n",
    "    x = np.arange(-70, 70, 0.05).reshape(-1,1)    \n",
    "    x_ = prepare_poly_data(x, power=8)\n",
    "    y_ = x_ @ theta\n",
    "    \n",
    "    fig, ax = plt.subplots(1,2,figsize=(12,4))\n",
    "    ax[0].scatter(data['X'],data['y'], marker='x', c='r')\n",
    "    ax[0].plot(x, y_.flatten())\n",
    "    ax[1].plot(xx, training_cost, label='training cost')\n",
    "    ax[1].plot(xx, cv_cost, label='cv cost')\n",
    "    ax[1].legend()"
   ]
  },
  {
   "cell_type": "code",
   "execution_count": null,
   "metadata": {
    "scrolled": true
   },
   "outputs": [],
   "source": [
    "plot_learning_curve(X_poly, y, Xval_poly, yval, 0)\n",
    "plt.show()"
   ]
  },
  {
   "cell_type": "markdown",
   "metadata": {},
   "source": [
    "### 3.2 Adjusting the regularization parameter"
   ]
  },
  {
   "cell_type": "markdown",
   "metadata": {},
   "source": [
    "上图可以看到 $\\lambda$ = 0时，训练误差太小了，明显过拟合了。\n",
    "\n",
    "我们继续调整$\\lambda$ = 1 时："
   ]
  },
  {
   "cell_type": "code",
   "execution_count": null,
   "metadata": {
    "scrolled": true
   },
   "outputs": [],
   "source": [
    "plot_learning_curve(X_poly, y, Xval_poly, yval, 1)\n",
    "plt.show()"
   ]
  },
  {
   "cell_type": "markdown",
   "metadata": {},
   "source": [
    "我们继续调整$\\lambda$ = 100 时，很明显惩罚过多，欠拟合了"
   ]
  },
  {
   "cell_type": "code",
   "execution_count": null,
   "metadata": {},
   "outputs": [],
   "source": [
    "plot_learning_curve(X_poly, y, Xval_poly, yval, 100)\n",
    "plt.show()"
   ]
  },
  {
   "cell_type": "markdown",
   "metadata": {},
   "source": [
    "### 3.3 Selecting λ using a cross validation set"
   ]
  },
  {
   "cell_type": "markdown",
   "metadata": {},
   "source": [
    "### 3.4 Computing test set error"
   ]
  },
  {
   "cell_type": "markdown",
   "metadata": {},
   "source": [
    "### 3.5 Plotting learning curves with randomly selected examples"
   ]
  }
 ],
 "metadata": {
  "kernelspec": {
   "display_name": "Python 3",
   "language": "python",
   "name": "python3"
  },
  "language_info": {
   "codemirror_mode": {
    "name": "ipython",
    "version": 3
   },
   "file_extension": ".py",
   "mimetype": "text/x-python",
   "name": "python",
   "nbconvert_exporter": "python",
   "pygments_lexer": "ipython3",
   "version": "3.6.1"
  },
  "toc": {
   "nav_menu": {},
   "number_sections": false,
   "sideBar": true,
   "skip_h1_title": false,
   "title_cell": "Table of Contents",
   "title_sidebar": "Contents",
   "toc_cell": false,
   "toc_position": {
    "height": "calc(100% - 180px)",
    "left": "10px",
    "top": "150px",
    "width": "248px"
   },
   "toc_section_display": true,
   "toc_window_display": true
  }
 },
 "nbformat": 4,
 "nbformat_minor": 2
}
